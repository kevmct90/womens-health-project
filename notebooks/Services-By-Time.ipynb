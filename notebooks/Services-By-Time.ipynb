{
 "cells": [
  {
   "cell_type": "code",
   "execution_count": 11,
   "metadata": {
    "collapsed": false
   },
   "outputs": [],
   "source": [
    "import pandas as pd\n",
    "import numpy as np\n",
    "import matplotlib.pyplot as plt\n",
    "import seaborn as sns\n",
    "import datetime\n",
    "\n",
    "# Draw inline\n",
    "%matplotlib inline\n",
    "\n",
    "path = '/Users/Kevin/Desktop/DataKind/womens-health-project/data/current/DWWC Bookings-2017-03-07-Add-Age.csv'"
   ]
  },
  {
   "cell_type": "code",
   "execution_count": 12,
   "metadata": {
    "collapsed": false
   },
   "outputs": [
    {
     "name": "stdout",
     "output_type": "stream",
     "text": [
      "/Users/Kevin/Desktop/DataKind/womens-health-project/data/current/DWWC Bookings-2017-03-07-Add-Age.csv: text/plain; charset=us-ascii\n"
     ]
    }
   ],
   "source": [
    "%%bash\n",
    "file -I \"/Users/Kevin/Desktop/DataKind/womens-health-project/data/current/DWWC Bookings-2017-03-07-Add-Age.csv\"\n"
   ]
  },
  {
   "cell_type": "code",
   "execution_count": 13,
   "metadata": {
    "collapsed": true
   },
   "outputs": [],
   "source": [
    "df=pd.read_csv(path, encoding='ascii')"
   ]
  },
  {
   "cell_type": "code",
   "execution_count": 14,
   "metadata": {
    "collapsed": false
   },
   "outputs": [
    {
     "data": {
      "text/html": [
       "<div>\n",
       "<table border=\"1\" class=\"dataframe\">\n",
       "  <thead>\n",
       "    <tr style=\"text-align: right;\">\n",
       "      <th></th>\n",
       "      <th>ID</th>\n",
       "      <th>date_submitted</th>\n",
       "      <th>date_of_birth</th>\n",
       "      <th>preferred_contact</th>\n",
       "      <th>preferred_contact_e-mail</th>\n",
       "      <th>preferred_contact_phone</th>\n",
       "      <th>preferred_contact_text</th>\n",
       "      <th>return_patient</th>\n",
       "      <th>choose_clinic</th>\n",
       "      <th>service_required</th>\n",
       "      <th>smear_test_calc_flag</th>\n",
       "      <th>preferred_appt_date</th>\n",
       "      <th>preferred_time_of_day</th>\n",
       "      <th>preferred_time_morning</th>\n",
       "      <th>preferred_time_afternoon</th>\n",
       "      <th>preferred_time_evening</th>\n",
       "      <th>age</th>\n",
       "    </tr>\n",
       "  </thead>\n",
       "  <tbody>\n",
       "    <tr>\n",
       "      <th>0</th>\n",
       "      <td>4420</td>\n",
       "      <td>03/02/2017</td>\n",
       "      <td>04/01/1995</td>\n",
       "      <td>phone</td>\n",
       "      <td>0</td>\n",
       "      <td>1</td>\n",
       "      <td>0</td>\n",
       "      <td>No</td>\n",
       "      <td>Coolock</td>\n",
       "      <td>Mirena / Jaydess Consultation</td>\n",
       "      <td>NaN</td>\n",
       "      <td>09/02/2017</td>\n",
       "      <td>Evening</td>\n",
       "      <td>0</td>\n",
       "      <td>0</td>\n",
       "      <td>1</td>\n",
       "      <td>22.083504</td>\n",
       "    </tr>\n",
       "    <tr>\n",
       "      <th>1</th>\n",
       "      <td>4419</td>\n",
       "      <td>03/02/2017</td>\n",
       "      <td>26/03/1992</td>\n",
       "      <td>e-mail</td>\n",
       "      <td>1</td>\n",
       "      <td>0</td>\n",
       "      <td>0</td>\n",
       "      <td>No</td>\n",
       "      <td>Liffey Street</td>\n",
       "      <td>General Counselling</td>\n",
       "      <td>NaN</td>\n",
       "      <td>11/02/2017</td>\n",
       "      <td>Morning,Afternoon,Evening</td>\n",
       "      <td>1</td>\n",
       "      <td>1</td>\n",
       "      <td>1</td>\n",
       "      <td>24.859685</td>\n",
       "    </tr>\n",
       "    <tr>\n",
       "      <th>2</th>\n",
       "      <td>4418</td>\n",
       "      <td>03/02/2017</td>\n",
       "      <td>09/01/1987</td>\n",
       "      <td>e-mail</td>\n",
       "      <td>1</td>\n",
       "      <td>0</td>\n",
       "      <td>0</td>\n",
       "      <td>No</td>\n",
       "      <td>Liffey Street</td>\n",
       "      <td>Pregnancy Testing</td>\n",
       "      <td>NaN</td>\n",
       "      <td>07/02/2017</td>\n",
       "      <td>Afternoon</td>\n",
       "      <td>0</td>\n",
       "      <td>1</td>\n",
       "      <td>0</td>\n",
       "      <td>30.069815</td>\n",
       "    </tr>\n",
       "    <tr>\n",
       "      <th>3</th>\n",
       "      <td>4417</td>\n",
       "      <td>03/02/2017</td>\n",
       "      <td>NaN</td>\n",
       "      <td>phone</td>\n",
       "      <td>0</td>\n",
       "      <td>1</td>\n",
       "      <td>0</td>\n",
       "      <td>Yes</td>\n",
       "      <td>Pembroke Road</td>\n",
       "      <td>Cervical Smear Test</td>\n",
       "      <td>unchecked</td>\n",
       "      <td>06/02/2017</td>\n",
       "      <td>Afternoon</td>\n",
       "      <td>0</td>\n",
       "      <td>1</td>\n",
       "      <td>0</td>\n",
       "      <td>NaN</td>\n",
       "    </tr>\n",
       "    <tr>\n",
       "      <th>4</th>\n",
       "      <td>4416</td>\n",
       "      <td>03/02/2017</td>\n",
       "      <td>01/12/1994</td>\n",
       "      <td>phone,e-mail</td>\n",
       "      <td>1</td>\n",
       "      <td>1</td>\n",
       "      <td>0</td>\n",
       "      <td>No</td>\n",
       "      <td>Liffey Street</td>\n",
       "      <td>Contraception services</td>\n",
       "      <td>NaN</td>\n",
       "      <td>03/02/2017</td>\n",
       "      <td>Morning,Afternoon,Evening</td>\n",
       "      <td>1</td>\n",
       "      <td>1</td>\n",
       "      <td>1</td>\n",
       "      <td>22.176591</td>\n",
       "    </tr>\n",
       "  </tbody>\n",
       "</table>\n",
       "</div>"
      ],
      "text/plain": [
       "     ID date_submitted date_of_birth preferred_contact  \\\n",
       "0  4420     03/02/2017    04/01/1995             phone   \n",
       "1  4419     03/02/2017    26/03/1992            e-mail   \n",
       "2  4418     03/02/2017    09/01/1987            e-mail   \n",
       "3  4417     03/02/2017           NaN             phone   \n",
       "4  4416     03/02/2017    01/12/1994      phone,e-mail   \n",
       "\n",
       "   preferred_contact_e-mail  preferred_contact_phone  preferred_contact_text  \\\n",
       "0                         0                        1                       0   \n",
       "1                         1                        0                       0   \n",
       "2                         1                        0                       0   \n",
       "3                         0                        1                       0   \n",
       "4                         1                        1                       0   \n",
       "\n",
       "  return_patient  choose_clinic               service_required  \\\n",
       "0             No        Coolock  Mirena / Jaydess Consultation   \n",
       "1             No  Liffey Street            General Counselling   \n",
       "2             No  Liffey Street              Pregnancy Testing   \n",
       "3            Yes  Pembroke Road            Cervical Smear Test   \n",
       "4             No  Liffey Street         Contraception services   \n",
       "\n",
       "  smear_test_calc_flag preferred_appt_date      preferred_time_of_day  \\\n",
       "0                  NaN          09/02/2017                    Evening   \n",
       "1                  NaN          11/02/2017  Morning,Afternoon,Evening   \n",
       "2                  NaN          07/02/2017                  Afternoon   \n",
       "3            unchecked          06/02/2017                  Afternoon   \n",
       "4                  NaN          03/02/2017  Morning,Afternoon,Evening   \n",
       "\n",
       "   preferred_time_morning  preferred_time_afternoon  preferred_time_evening  \\\n",
       "0                       0                         0                       1   \n",
       "1                       1                         1                       1   \n",
       "2                       0                         1                       0   \n",
       "3                       0                         1                       0   \n",
       "4                       1                         1                       1   \n",
       "\n",
       "         age  \n",
       "0  22.083504  \n",
       "1  24.859685  \n",
       "2  30.069815  \n",
       "3        NaN  \n",
       "4  22.176591  "
      ]
     },
     "execution_count": 14,
     "metadata": {},
     "output_type": "execute_result"
    }
   ],
   "source": [
    "df.head()"
   ]
  },
  {
   "cell_type": "code",
   "execution_count": 15,
   "metadata": {
    "collapsed": false
   },
   "outputs": [
    {
     "data": {
      "image/png": "[encoded data removed]",
      "text/plain": [
       "<matplotlib.figure.Figure at 0x110ff4390>"
      ]
     },
     "metadata": {},
     "output_type": "display_data"
    }
   ],
   "source": [
    "df.service_required.value_counts(dropna=False).plot(kind='bar', color='#FD5C64', rot=0)\n",
    "plt.xlabel('service_required')\n",
    "sns.despine()"
   ]
  },
  {
   "cell_type": "code",
   "execution_count": 16,
   "metadata": {
    "collapsed": false
   },
   "outputs": [
    {
     "name": "stderr",
     "output_type": "stream",
     "text": [
      "/Users/Kevin/anaconda/lib/python3.5/site-packages/ipykernel/__main__.py:2: SettingWithCopyWarning: \n",
      "A value is trying to be set on a copy of a slice from a DataFrame.\n",
      "Try using .loc[row_indexer,col_indexer] = value instead\n",
      "\n",
      "See the caveats in the documentation: http://pandas.pydata.org/pandas-docs/stable/indexing.html#indexing-view-versus-copy\n",
      "  from ipykernel import kernelapp as app\n"
     ]
    }
   ],
   "source": [
    "df2 = df[df['preferred_time_morning'] == 1]\n",
    "df2['Time of Day'] = 'Morning'\n"
   ]
  },
  {
   "cell_type": "code",
   "execution_count": 17,
   "metadata": {
    "collapsed": false
   },
   "outputs": [
    {
     "name": "stderr",
     "output_type": "stream",
     "text": [
      "/Users/Kevin/anaconda/lib/python3.5/site-packages/ipykernel/__main__.py:2: SettingWithCopyWarning: \n",
      "A value is trying to be set on a copy of a slice from a DataFrame.\n",
      "Try using .loc[row_indexer,col_indexer] = value instead\n",
      "\n",
      "See the caveats in the documentation: http://pandas.pydata.org/pandas-docs/stable/indexing.html#indexing-view-versus-copy\n",
      "  from ipykernel import kernelapp as app\n"
     ]
    }
   ],
   "source": [
    "df3 = df[df['preferred_time_afternoon'] == 1]\n",
    "df3['Time of Day'] = 'Afternoon'"
   ]
  },
  {
   "cell_type": "code",
   "execution_count": 18,
   "metadata": {
    "collapsed": false
   },
   "outputs": [
    {
     "name": "stderr",
     "output_type": "stream",
     "text": [
      "/Users/Kevin/anaconda/lib/python3.5/site-packages/ipykernel/__main__.py:2: SettingWithCopyWarning: \n",
      "A value is trying to be set on a copy of a slice from a DataFrame.\n",
      "Try using .loc[row_indexer,col_indexer] = value instead\n",
      "\n",
      "See the caveats in the documentation: http://pandas.pydata.org/pandas-docs/stable/indexing.html#indexing-view-versus-copy\n",
      "  from ipykernel import kernelapp as app\n"
     ]
    }
   ],
   "source": [
    "df4 = df[df['preferred_time_evening'] == 1]\n",
    "df4['Time of Day'] = 'Evening'"
   ]
  },
  {
   "cell_type": "code",
   "execution_count": 19,
   "metadata": {
    "collapsed": false
   },
   "outputs": [],
   "source": [
    "df5 = df2.append(df3).append(df4)"
   ]
  },
  {
   "cell_type": "code",
   "execution_count": 20,
   "metadata": {
    "collapsed": false
   },
   "outputs": [
    {
     "data": {
      "text/html": [
       "<div>\n",
       "<table border=\"1\" class=\"dataframe\">\n",
       "  <thead>\n",
       "    <tr style=\"text-align: right;\">\n",
       "      <th></th>\n",
       "      <th>ID</th>\n",
       "      <th>date_submitted</th>\n",
       "      <th>date_of_birth</th>\n",
       "      <th>preferred_contact</th>\n",
       "      <th>preferred_contact_e-mail</th>\n",
       "      <th>preferred_contact_phone</th>\n",
       "      <th>preferred_contact_text</th>\n",
       "      <th>return_patient</th>\n",
       "      <th>choose_clinic</th>\n",
       "      <th>service_required</th>\n",
       "      <th>smear_test_calc_flag</th>\n",
       "      <th>preferred_appt_date</th>\n",
       "      <th>preferred_time_of_day</th>\n",
       "      <th>preferred_time_morning</th>\n",
       "      <th>preferred_time_afternoon</th>\n",
       "      <th>preferred_time_evening</th>\n",
       "      <th>age</th>\n",
       "      <th>Time of Day</th>\n",
       "    </tr>\n",
       "  </thead>\n",
       "  <tbody>\n",
       "    <tr>\n",
       "      <th>1</th>\n",
       "      <td>4419</td>\n",
       "      <td>03/02/2017</td>\n",
       "      <td>26/03/1992</td>\n",
       "      <td>e-mail</td>\n",
       "      <td>1</td>\n",
       "      <td>0</td>\n",
       "      <td>0</td>\n",
       "      <td>No</td>\n",
       "      <td>Liffey Street</td>\n",
       "      <td>General Counselling</td>\n",
       "      <td>NaN</td>\n",
       "      <td>11/02/2017</td>\n",
       "      <td>Morning,Afternoon,Evening</td>\n",
       "      <td>1</td>\n",
       "      <td>1</td>\n",
       "      <td>1</td>\n",
       "      <td>24.859685</td>\n",
       "      <td>Morning</td>\n",
       "    </tr>\n",
       "    <tr>\n",
       "      <th>4</th>\n",
       "      <td>4416</td>\n",
       "      <td>03/02/2017</td>\n",
       "      <td>01/12/1994</td>\n",
       "      <td>phone,e-mail</td>\n",
       "      <td>1</td>\n",
       "      <td>1</td>\n",
       "      <td>0</td>\n",
       "      <td>No</td>\n",
       "      <td>Liffey Street</td>\n",
       "      <td>Contraception services</td>\n",
       "      <td>NaN</td>\n",
       "      <td>03/02/2017</td>\n",
       "      <td>Morning,Afternoon,Evening</td>\n",
       "      <td>1</td>\n",
       "      <td>1</td>\n",
       "      <td>1</td>\n",
       "      <td>22.176591</td>\n",
       "      <td>Morning</td>\n",
       "    </tr>\n",
       "    <tr>\n",
       "      <th>6</th>\n",
       "      <td>4414</td>\n",
       "      <td>02/02/2017</td>\n",
       "      <td>05/05/1987</td>\n",
       "      <td>e-mail</td>\n",
       "      <td>1</td>\n",
       "      <td>0</td>\n",
       "      <td>0</td>\n",
       "      <td>No</td>\n",
       "      <td>Liffey Street</td>\n",
       "      <td>Infection Testing</td>\n",
       "      <td>NaN</td>\n",
       "      <td>04/02/2017</td>\n",
       "      <td>Morning</td>\n",
       "      <td>1</td>\n",
       "      <td>0</td>\n",
       "      <td>0</td>\n",
       "      <td>29.749487</td>\n",
       "      <td>Morning</td>\n",
       "    </tr>\n",
       "    <tr>\n",
       "      <th>9</th>\n",
       "      <td>4411</td>\n",
       "      <td>02/02/2017</td>\n",
       "      <td>05/05/1987</td>\n",
       "      <td>e-mail</td>\n",
       "      <td>1</td>\n",
       "      <td>0</td>\n",
       "      <td>0</td>\n",
       "      <td>No</td>\n",
       "      <td>Liffey Street</td>\n",
       "      <td>Infection Testing</td>\n",
       "      <td>NaN</td>\n",
       "      <td>04/02/2017</td>\n",
       "      <td>Morning</td>\n",
       "      <td>1</td>\n",
       "      <td>0</td>\n",
       "      <td>0</td>\n",
       "      <td>29.749487</td>\n",
       "      <td>Morning</td>\n",
       "    </tr>\n",
       "    <tr>\n",
       "      <th>10</th>\n",
       "      <td>4410</td>\n",
       "      <td>02/02/2017</td>\n",
       "      <td>23/04/1991</td>\n",
       "      <td>e-mail</td>\n",
       "      <td>1</td>\n",
       "      <td>0</td>\n",
       "      <td>0</td>\n",
       "      <td>No</td>\n",
       "      <td>Pembroke Road</td>\n",
       "      <td>Cervical Smear Test</td>\n",
       "      <td>checked</td>\n",
       "      <td>11/02/2017</td>\n",
       "      <td>Morning,Afternoon</td>\n",
       "      <td>1</td>\n",
       "      <td>1</td>\n",
       "      <td>0</td>\n",
       "      <td>25.782341</td>\n",
       "      <td>Morning</td>\n",
       "    </tr>\n",
       "  </tbody>\n",
       "</table>\n",
       "</div>"
      ],
      "text/plain": [
       "      ID date_submitted date_of_birth preferred_contact  \\\n",
       "1   4419     03/02/2017    26/03/1992            e-mail   \n",
       "4   4416     03/02/2017    01/12/1994      phone,e-mail   \n",
       "6   4414     02/02/2017    05/05/1987            e-mail   \n",
       "9   4411     02/02/2017    05/05/1987            e-mail   \n",
       "10  4410     02/02/2017    23/04/1991            e-mail   \n",
       "\n",
       "    preferred_contact_e-mail  preferred_contact_phone  preferred_contact_text  \\\n",
       "1                          1                        0                       0   \n",
       "4                          1                        1                       0   \n",
       "6                          1                        0                       0   \n",
       "9                          1                        0                       0   \n",
       "10                         1                        0                       0   \n",
       "\n",
       "   return_patient  choose_clinic        service_required smear_test_calc_flag  \\\n",
       "1              No  Liffey Street     General Counselling                  NaN   \n",
       "4              No  Liffey Street  Contraception services                  NaN   \n",
       "6              No  Liffey Street       Infection Testing                  NaN   \n",
       "9              No  Liffey Street       Infection Testing                  NaN   \n",
       "10             No  Pembroke Road     Cervical Smear Test              checked   \n",
       "\n",
       "   preferred_appt_date      preferred_time_of_day  preferred_time_morning  \\\n",
       "1           11/02/2017  Morning,Afternoon,Evening                       1   \n",
       "4           03/02/2017  Morning,Afternoon,Evening                       1   \n",
       "6           04/02/2017                    Morning                       1   \n",
       "9           04/02/2017                    Morning                       1   \n",
       "10          11/02/2017          Morning,Afternoon                       1   \n",
       "\n",
       "    preferred_time_afternoon  preferred_time_evening        age Time of Day  \n",
       "1                          1                       1  24.859685     Morning  \n",
       "4                          1                       1  22.176591     Morning  \n",
       "6                          0                       0  29.749487     Morning  \n",
       "9                          0                       0  29.749487     Morning  \n",
       "10                         1                       0  25.782341     Morning  "
      ]
     },
     "execution_count": 20,
     "metadata": {},
     "output_type": "execute_result"
    }
   ],
   "source": [
    "df5.head()"
   ]
  },
  {
   "cell_type": "code",
   "execution_count": 21,
   "metadata": {
    "collapsed": false
   },
   "outputs": [
    {
     "data": {
      "text/plain": [
       "ID                            int64\n",
       "date_submitted               object\n",
       "date_of_birth                object\n",
       "preferred_contact            object\n",
       "preferred_contact_e-mail      int64\n",
       "preferred_contact_phone       int64\n",
       "preferred_contact_text        int64\n",
       "return_patient               object\n",
       "choose_clinic                object\n",
       "service_required             object\n",
       "smear_test_calc_flag         object\n",
       "preferred_appt_date          object\n",
       "preferred_time_of_day        object\n",
       "preferred_time_morning        int64\n",
       "preferred_time_afternoon      int64\n",
       "preferred_time_evening        int64\n",
       "age                         float64\n",
       "Time of Day                  object\n",
       "dtype: object"
      ]
     },
     "execution_count": 21,
     "metadata": {},
     "output_type": "execute_result"
    }
   ],
   "source": [
    "df5.dtypes\n",
    "\n"
   ]
  },
  {
   "cell_type": "code",
   "execution_count": 22,
   "metadata": {
    "collapsed": false
   },
   "outputs": [],
   "source": [
    "# convert objects to pandas datetime data types\n",
    "df5['date_submitted'] =  pd.to_datetime(df5['date_submitted'], format='%d/%m/%Y')\n",
    "\n",
    "# convert objects to pandas datetime data types, and handle null values using coerce\n",
    "df5['date_of_birth'] =  pd.to_datetime(df5['date_of_birth'], format='%d/%m/%Y',errors='coerce')\n",
    "\n",
    "# convert objects to pandas datetime data types, and handle null values using coerce\n",
    "df5['preferred_appt_date'] =  pd.to_datetime(df5['preferred_appt_date'], format='%d/%m/%Y',errors='coerce')"
   ]
  },
  {
   "cell_type": "code",
   "execution_count": 23,
   "metadata": {
    "collapsed": false
   },
   "outputs": [
    {
     "data": {
      "text/plain": [
       "ID                                   int64\n",
       "date_submitted              datetime64[ns]\n",
       "date_of_birth               datetime64[ns]\n",
       "preferred_contact                   object\n",
       "preferred_contact_e-mail             int64\n",
       "preferred_contact_phone              int64\n",
       "preferred_contact_text               int64\n",
       "return_patient                      object\n",
       "choose_clinic                       object\n",
       "service_required                    object\n",
       "smear_test_calc_flag                object\n",
       "preferred_appt_date         datetime64[ns]\n",
       "preferred_time_of_day               object\n",
       "preferred_time_morning               int64\n",
       "preferred_time_afternoon             int64\n",
       "preferred_time_evening               int64\n",
       "age                                float64\n",
       "Time of Day                         object\n",
       "dtype: object"
      ]
     },
     "execution_count": 23,
     "metadata": {},
     "output_type": "execute_result"
    }
   ],
   "source": [
    "df5.dtypes\n"
   ]
  },
  {
   "cell_type": "code",
   "execution_count": 24,
   "metadata": {
    "collapsed": true
   },
   "outputs": [],
   "source": [
    "df5['preferred_appt_day_week'] = df5['preferred_appt_date'].dt.weekday_name"
   ]
  },
  {
   "cell_type": "code",
   "execution_count": 25,
   "metadata": {
    "collapsed": false
   },
   "outputs": [
    {
     "data": {
      "text/plain": [
       "1    2017-02-11\n",
       "4    2017-02-03\n",
       "6    2017-02-04\n",
       "9    2017-02-04\n",
       "10   2017-02-11\n",
       "13   2017-02-03\n",
       "14   2017-02-09\n",
       "16          NaT\n",
       "18   2017-02-18\n",
       "19   2017-02-08\n",
       "Name: preferred_appt_date, dtype: datetime64[ns]"
      ]
     },
     "execution_count": 25,
     "metadata": {},
     "output_type": "execute_result"
    }
   ],
   "source": [
    "# df5(len(df5['preferred_appt_date']) >= 5)\n",
    "df5['preferred_appt_date'].head(10)\n"
   ]
  },
  {
   "cell_type": "code",
   "execution_count": 27,
   "metadata": {
    "collapsed": false
   },
   "outputs": [
    {
     "data": {
      "text/html": [
       "<div>\n",
       "<table border=\"1\" class=\"dataframe\">\n",
       "  <thead>\n",
       "    <tr style=\"text-align: right;\">\n",
       "      <th></th>\n",
       "      <th>ID</th>\n",
       "      <th>date_submitted</th>\n",
       "      <th>date_of_birth</th>\n",
       "      <th>preferred_contact</th>\n",
       "      <th>preferred_contact_e-mail</th>\n",
       "      <th>preferred_contact_phone</th>\n",
       "      <th>preferred_contact_text</th>\n",
       "      <th>return_patient</th>\n",
       "      <th>choose_clinic</th>\n",
       "      <th>service_required</th>\n",
       "      <th>smear_test_calc_flag</th>\n",
       "      <th>preferred_appt_date</th>\n",
       "      <th>preferred_time_of_day</th>\n",
       "      <th>preferred_time_morning</th>\n",
       "      <th>preferred_time_afternoon</th>\n",
       "      <th>preferred_time_evening</th>\n",
       "      <th>age</th>\n",
       "      <th>Time of Day</th>\n",
       "      <th>preferred_appt_day_week</th>\n",
       "    </tr>\n",
       "  </thead>\n",
       "  <tbody>\n",
       "    <tr>\n",
       "      <th>1</th>\n",
       "      <td>4419</td>\n",
       "      <td>2017-02-03</td>\n",
       "      <td>1992-03-26</td>\n",
       "      <td>e-mail</td>\n",
       "      <td>1</td>\n",
       "      <td>0</td>\n",
       "      <td>0</td>\n",
       "      <td>No</td>\n",
       "      <td>Liffey Street</td>\n",
       "      <td>General Counselling</td>\n",
       "      <td>NaN</td>\n",
       "      <td>2017-02-11</td>\n",
       "      <td>Morning,Afternoon,Evening</td>\n",
       "      <td>1</td>\n",
       "      <td>1</td>\n",
       "      <td>1</td>\n",
       "      <td>24.859685</td>\n",
       "      <td>Morning</td>\n",
       "      <td>Saturday</td>\n",
       "    </tr>\n",
       "    <tr>\n",
       "      <th>4</th>\n",
       "      <td>4416</td>\n",
       "      <td>2017-02-03</td>\n",
       "      <td>1994-12-01</td>\n",
       "      <td>phone,e-mail</td>\n",
       "      <td>1</td>\n",
       "      <td>1</td>\n",
       "      <td>0</td>\n",
       "      <td>No</td>\n",
       "      <td>Liffey Street</td>\n",
       "      <td>Contraception services</td>\n",
       "      <td>NaN</td>\n",
       "      <td>2017-02-03</td>\n",
       "      <td>Morning,Afternoon,Evening</td>\n",
       "      <td>1</td>\n",
       "      <td>1</td>\n",
       "      <td>1</td>\n",
       "      <td>22.176591</td>\n",
       "      <td>Morning</td>\n",
       "      <td>Friday</td>\n",
       "    </tr>\n",
       "    <tr>\n",
       "      <th>6</th>\n",
       "      <td>4414</td>\n",
       "      <td>2017-02-02</td>\n",
       "      <td>1987-05-05</td>\n",
       "      <td>e-mail</td>\n",
       "      <td>1</td>\n",
       "      <td>0</td>\n",
       "      <td>0</td>\n",
       "      <td>No</td>\n",
       "      <td>Liffey Street</td>\n",
       "      <td>Infection Testing</td>\n",
       "      <td>NaN</td>\n",
       "      <td>2017-02-04</td>\n",
       "      <td>Morning</td>\n",
       "      <td>1</td>\n",
       "      <td>0</td>\n",
       "      <td>0</td>\n",
       "      <td>29.749487</td>\n",
       "      <td>Morning</td>\n",
       "      <td>Saturday</td>\n",
       "    </tr>\n",
       "    <tr>\n",
       "      <th>9</th>\n",
       "      <td>4411</td>\n",
       "      <td>2017-02-02</td>\n",
       "      <td>1987-05-05</td>\n",
       "      <td>e-mail</td>\n",
       "      <td>1</td>\n",
       "      <td>0</td>\n",
       "      <td>0</td>\n",
       "      <td>No</td>\n",
       "      <td>Liffey Street</td>\n",
       "      <td>Infection Testing</td>\n",
       "      <td>NaN</td>\n",
       "      <td>2017-02-04</td>\n",
       "      <td>Morning</td>\n",
       "      <td>1</td>\n",
       "      <td>0</td>\n",
       "      <td>0</td>\n",
       "      <td>29.749487</td>\n",
       "      <td>Morning</td>\n",
       "      <td>Saturday</td>\n",
       "    </tr>\n",
       "    <tr>\n",
       "      <th>10</th>\n",
       "      <td>4410</td>\n",
       "      <td>2017-02-02</td>\n",
       "      <td>1991-04-23</td>\n",
       "      <td>e-mail</td>\n",
       "      <td>1</td>\n",
       "      <td>0</td>\n",
       "      <td>0</td>\n",
       "      <td>No</td>\n",
       "      <td>Pembroke Road</td>\n",
       "      <td>Cervical Smear Test</td>\n",
       "      <td>checked</td>\n",
       "      <td>2017-02-11</td>\n",
       "      <td>Morning,Afternoon</td>\n",
       "      <td>1</td>\n",
       "      <td>1</td>\n",
       "      <td>0</td>\n",
       "      <td>25.782341</td>\n",
       "      <td>Morning</td>\n",
       "      <td>Saturday</td>\n",
       "    </tr>\n",
       "  </tbody>\n",
       "</table>\n",
       "</div>"
      ],
      "text/plain": [
       "      ID date_submitted date_of_birth preferred_contact  \\\n",
       "1   4419     2017-02-03    1992-03-26            e-mail   \n",
       "4   4416     2017-02-03    1994-12-01      phone,e-mail   \n",
       "6   4414     2017-02-02    1987-05-05            e-mail   \n",
       "9   4411     2017-02-02    1987-05-05            e-mail   \n",
       "10  4410     2017-02-02    1991-04-23            e-mail   \n",
       "\n",
       "    preferred_contact_e-mail  preferred_contact_phone  preferred_contact_text  \\\n",
       "1                          1                        0                       0   \n",
       "4                          1                        1                       0   \n",
       "6                          1                        0                       0   \n",
       "9                          1                        0                       0   \n",
       "10                         1                        0                       0   \n",
       "\n",
       "   return_patient  choose_clinic        service_required smear_test_calc_flag  \\\n",
       "1              No  Liffey Street     General Counselling                  NaN   \n",
       "4              No  Liffey Street  Contraception services                  NaN   \n",
       "6              No  Liffey Street       Infection Testing                  NaN   \n",
       "9              No  Liffey Street       Infection Testing                  NaN   \n",
       "10             No  Pembroke Road     Cervical Smear Test              checked   \n",
       "\n",
       "   preferred_appt_date      preferred_time_of_day  preferred_time_morning  \\\n",
       "1           2017-02-11  Morning,Afternoon,Evening                       1   \n",
       "4           2017-02-03  Morning,Afternoon,Evening                       1   \n",
       "6           2017-02-04                    Morning                       1   \n",
       "9           2017-02-04                    Morning                       1   \n",
       "10          2017-02-11          Morning,Afternoon                       1   \n",
       "\n",
       "    preferred_time_afternoon  preferred_time_evening        age Time of Day  \\\n",
       "1                          1                       1  24.859685     Morning   \n",
       "4                          1                       1  22.176591     Morning   \n",
       "6                          0                       0  29.749487     Morning   \n",
       "9                          0                       0  29.749487     Morning   \n",
       "10                         1                       0  25.782341     Morning   \n",
       "\n",
       "   preferred_appt_day_week  \n",
       "1                 Saturday  \n",
       "4                   Friday  \n",
       "6                 Saturday  \n",
       "9                 Saturday  \n",
       "10                Saturday  "
      ]
     },
     "execution_count": 27,
     "metadata": {},
     "output_type": "execute_result"
    }
   ],
   "source": [
    "df5 = df5[pd.notnull(df5['preferred_appt_date'])]\n",
    "df5.head()"
   ]
  },
  {
   "cell_type": "code",
   "execution_count": 46,
   "metadata": {
    "collapsed": false
   },
   "outputs": [
    {
     "name": "stderr",
     "output_type": "stream",
     "text": [
      "/Users/Kevin/anaconda/lib/python3.5/site-packages/ipykernel/__main__.py:3: SettingWithCopyWarning: \n",
      "A value is trying to be set on a copy of a slice from a DataFrame.\n",
      "Try using .loc[row_indexer,col_indexer] = value instead\n",
      "\n",
      "See the caveats in the documentation: http://pandas.pydata.org/pandas-docs/stable/indexing.html#indexing-view-versus-copy\n",
      "  app.launch_new_instance()\n"
     ]
    },
    {
     "data": {
      "text/html": [
       "<div>\n",
       "<table border=\"1\" class=\"dataframe\">\n",
       "  <thead>\n",
       "    <tr style=\"text-align: right;\">\n",
       "      <th></th>\n",
       "      <th>service_required</th>\n",
       "      <th>Time of Day</th>\n",
       "      <th>preferred_appt_day_week</th>\n",
       "      <th>Time_and_Day</th>\n",
       "    </tr>\n",
       "  </thead>\n",
       "  <tbody>\n",
       "    <tr>\n",
       "      <th>1</th>\n",
       "      <td>General Counselling</td>\n",
       "      <td>Morning</td>\n",
       "      <td>Saturday</td>\n",
       "      <td>Morning - Saturday</td>\n",
       "    </tr>\n",
       "    <tr>\n",
       "      <th>4</th>\n",
       "      <td>Contraception services</td>\n",
       "      <td>Morning</td>\n",
       "      <td>Friday</td>\n",
       "      <td>Morning - Friday</td>\n",
       "    </tr>\n",
       "    <tr>\n",
       "      <th>6</th>\n",
       "      <td>Infection Testing</td>\n",
       "      <td>Morning</td>\n",
       "      <td>Saturday</td>\n",
       "      <td>Morning - Saturday</td>\n",
       "    </tr>\n",
       "    <tr>\n",
       "      <th>9</th>\n",
       "      <td>Infection Testing</td>\n",
       "      <td>Morning</td>\n",
       "      <td>Saturday</td>\n",
       "      <td>Morning - Saturday</td>\n",
       "    </tr>\n",
       "    <tr>\n",
       "      <th>10</th>\n",
       "      <td>Cervical Smear Test</td>\n",
       "      <td>Morning</td>\n",
       "      <td>Saturday</td>\n",
       "      <td>Morning - Saturday</td>\n",
       "    </tr>\n",
       "  </tbody>\n",
       "</table>\n",
       "</div>"
      ],
      "text/plain": [
       "          service_required Time of Day preferred_appt_day_week  \\\n",
       "1      General Counselling     Morning                Saturday   \n",
       "4   Contraception services     Morning                  Friday   \n",
       "6        Infection Testing     Morning                Saturday   \n",
       "9        Infection Testing     Morning                Saturday   \n",
       "10     Cervical Smear Test     Morning                Saturday   \n",
       "\n",
       "          Time_and_Day  \n",
       "1   Morning - Saturday  \n",
       "4     Morning - Friday  \n",
       "6   Morning - Saturday  \n",
       "9   Morning - Saturday  \n",
       "10  Morning - Saturday  "
      ]
     },
     "execution_count": 46,
     "metadata": {},
     "output_type": "execute_result"
    }
   ],
   "source": [
    "df_service_time = df5[['service_required', 'Time of Day', 'preferred_appt_day_week']]\n",
    "\n",
    "df_service_time['Time_and_Day'] = df_service_time['Time of Day'] +' - '+ df_service_time['preferred_appt_day_week']\n",
    "\n",
    "df_service_time.head()\n",
    "\n",
    "#df_service_time_count = df_service_time.groupby(['service_required', 'Time of Day', 'preferred_appt_day_week']).size()\n",
    "\n",
    "\n",
    "#df_service_time['count'] = df_service_time.groupby(['service_required', 'Time of Day', 'preferred_appt_day_week']).count()"
   ]
  },
  {
   "cell_type": "code",
   "execution_count": 49,
   "metadata": {
    "collapsed": false
   },
   "outputs": [
    {
     "name": "stderr",
     "output_type": "stream",
     "text": [
      "/Users/Kevin/anaconda/lib/python3.5/site-packages/ipykernel/__main__.py:1: SettingWithCopyWarning: \n",
      "A value is trying to be set on a copy of a slice from a DataFrame\n",
      "\n",
      "See the caveats in the documentation: http://pandas.pydata.org/pandas-docs/stable/indexing.html#indexing-view-versus-copy\n",
      "  if __name__ == '__main__':\n"
     ]
    },
    {
     "data": {
      "text/html": [
       "<div>\n",
       "<table border=\"1\" class=\"dataframe\">\n",
       "  <thead>\n",
       "    <tr style=\"text-align: right;\">\n",
       "      <th></th>\n",
       "      <th>service_required</th>\n",
       "      <th>Time_and_Day</th>\n",
       "    </tr>\n",
       "  </thead>\n",
       "  <tbody>\n",
       "    <tr>\n",
       "      <th>1</th>\n",
       "      <td>General Counselling</td>\n",
       "      <td>Morning - Saturday</td>\n",
       "    </tr>\n",
       "    <tr>\n",
       "      <th>4</th>\n",
       "      <td>Contraception services</td>\n",
       "      <td>Morning - Friday</td>\n",
       "    </tr>\n",
       "    <tr>\n",
       "      <th>6</th>\n",
       "      <td>Infection Testing</td>\n",
       "      <td>Morning - Saturday</td>\n",
       "    </tr>\n",
       "    <tr>\n",
       "      <th>9</th>\n",
       "      <td>Infection Testing</td>\n",
       "      <td>Morning - Saturday</td>\n",
       "    </tr>\n",
       "    <tr>\n",
       "      <th>10</th>\n",
       "      <td>Cervical Smear Test</td>\n",
       "      <td>Morning - Saturday</td>\n",
       "    </tr>\n",
       "  </tbody>\n",
       "</table>\n",
       "</div>"
      ],
      "text/plain": [
       "          service_required        Time_and_Day\n",
       "1      General Counselling  Morning - Saturday\n",
       "4   Contraception services    Morning - Friday\n",
       "6        Infection Testing  Morning - Saturday\n",
       "9        Infection Testing  Morning - Saturday\n",
       "10     Cervical Smear Test  Morning - Saturday"
      ]
     },
     "execution_count": 49,
     "metadata": {},
     "output_type": "execute_result"
    }
   ],
   "source": [
    "df_service_time.drop(df_service_time.columns[[1, 2]], axis=1, inplace=True)\n",
    "df_service_time.head()"
   ]
  },
  {
   "cell_type": "code",
   "execution_count": 51,
   "metadata": {
    "collapsed": false
   },
   "outputs": [
    {
     "name": "stderr",
     "output_type": "stream",
     "text": [
      "/Users/Kevin/anaconda/lib/python3.5/site-packages/ipykernel/__main__.py:1: SettingWithCopyWarning: \n",
      "A value is trying to be set on a copy of a slice from a DataFrame.\n",
      "Try using .loc[row_indexer,col_indexer] = value instead\n",
      "\n",
      "See the caveats in the documentation: http://pandas.pydata.org/pandas-docs/stable/indexing.html#indexing-view-versus-copy\n",
      "  if __name__ == '__main__':\n"
     ]
    },
    {
     "data": {
      "image/png": "[encoded data removed]",
      "text/plain": [
       "<matplotlib.figure.Figure at 0x1146d9860>"
      ]
     },
     "metadata": {},
     "output_type": "display_data"
    }
   ],
   "source": [
    "df_service_time['count'] = df_service_time.groupby(['service_required']).count()\n",
    "\n",
    "df_service_time.plot(kind='bar');"
   ]
  },
  {
   "cell_type": "code",
   "execution_count": null,
   "metadata": {
    "collapsed": true
   },
   "outputs": [],
   "source": []
  },
  {
   "cell_type": "code",
   "execution_count": 43,
   "metadata": {
    "collapsed": false
   },
   "outputs": [
    {
     "data": {
      "text/plain": [
       "dtype('int64')"
      ]
     },
     "execution_count": 43,
     "metadata": {},
     "output_type": "execute_result"
    }
   ],
   "source": [
    "df_service_time_count.dtypes\n",
    "\n"
   ]
  },
  {
   "cell_type": "code",
   "execution_count": null,
   "metadata": {
    "collapsed": true
   },
   "outputs": [],
   "source": []
  },
  {
   "cell_type": "code",
   "execution_count": 23,
   "metadata": {
    "collapsed": false
   },
   "outputs": [
    {
     "data": {
      "text/html": [
       "<div>\n",
       "<table border=\"1\" class=\"dataframe\">\n",
       "  <thead>\n",
       "    <tr style=\"text-align: right;\">\n",
       "      <th></th>\n",
       "      <th></th>\n",
       "      <th>preferred_appt_day_week</th>\n",
       "      <th>Time of Day</th>\n",
       "      <th>count</th>\n",
       "    </tr>\n",
       "    <tr>\n",
       "      <th>Day_Rank</th>\n",
       "      <th>Time_Rank</th>\n",
       "      <th></th>\n",
       "      <th></th>\n",
       "      <th></th>\n",
       "    </tr>\n",
       "  </thead>\n",
       "  <tbody>\n",
       "    <tr>\n",
       "      <th rowspan=\"3\" valign=\"top\">4</th>\n",
       "      <th>1</th>\n",
       "      <td>Friday</td>\n",
       "      <td>Afternoon</td>\n",
       "      <td>286</td>\n",
       "    </tr>\n",
       "    <tr>\n",
       "      <th>2</th>\n",
       "      <td>Friday</td>\n",
       "      <td>Evening</td>\n",
       "      <td>220</td>\n",
       "    </tr>\n",
       "    <tr>\n",
       "      <th>0</th>\n",
       "      <td>Friday</td>\n",
       "      <td>Morning</td>\n",
       "      <td>258</td>\n",
       "    </tr>\n",
       "    <tr>\n",
       "      <th rowspan=\"2\" valign=\"top\">0</th>\n",
       "      <th>1</th>\n",
       "      <td>Monday</td>\n",
       "      <td>Afternoon</td>\n",
       "      <td>275</td>\n",
       "    </tr>\n",
       "    <tr>\n",
       "      <th>2</th>\n",
       "      <td>Monday</td>\n",
       "      <td>Evening</td>\n",
       "      <td>323</td>\n",
       "    </tr>\n",
       "  </tbody>\n",
       "</table>\n",
       "</div>"
      ],
      "text/plain": [
       "                   preferred_appt_day_week Time of Day  count\n",
       "Day_Rank Time_Rank                                           \n",
       "4        1                          Friday   Afternoon    286\n",
       "         2                          Friday     Evening    220\n",
       "         0                          Friday     Morning    258\n",
       "0        1                          Monday   Afternoon    275\n",
       "         2                          Monday     Evening    323"
      ]
     },
     "execution_count": 23,
     "metadata": {},
     "output_type": "execute_result"
    }
   ],
   "source": [
    "sorter = ['Morning', 'Afternoon','Evening']\n",
    "sorterIndex = dict(zip(sorter,range(len(sorter))))\n",
    "\n",
    "sorter2 = ['Monday', 'Tuesday', 'Wednesday', 'Thursday', 'Friday', 'Saturday', 'Sunday']\n",
    "sorterIndex2 = dict(zip(sorter2,range(len(sorter2))))\n",
    "\n",
    "df5['Time_Rank'] = df5['Time of Day'].map(sorterIndex)\n",
    "df5['Day_Rank'] = df5['preferred_appt_day_week'].map(sorterIndex2)\n",
    "\n",
    "df5 = df5.set_index(['Day_Rank', 'Time_Rank'])\n",
    "#df5['Time of Day2'] = df5[df5.columns['Time_Rank', 'Time of Day'].apply(lambda x: '-'.join(x.dropna().astype(int).astype(str)),axis=1)\n",
    "df5.head()"
   ]
  },
  {
   "cell_type": "code",
   "execution_count": null,
   "metadata": {
    "collapsed": false
   },
   "outputs": [],
   "source": [
    "df8 = df7.sort_values(['Day_Rank', 'Time_Rank'], ascending = [True, True])\n",
    "df9 = df8.reset_index(drop=True)\n",
    "df9.head()"
   ]
  },
  {
   "cell_type": "code",
   "execution_count": null,
   "metadata": {
    "collapsed": true
   },
   "outputs": [],
   "source": [
    "total_bookings = df9.pivot_table('count', index='Time of Day',columns='preferred_appt_day_week', aggfunc=sum)\n",
    "\n",
    "#df8.reindex(df_pivot['count'].sort_values)\n",
    "#df = df.reindex(df_pivot['Value'].sort_values(by=2012, ascending=False).index)\n",
    "#df9 = df8.reindex(df_pivot['Value'].sort_values(by=(['Day_Rank', 'Time_Rank'], ascending = [True, True]).index))"
   ]
  },
  {
   "cell_type": "code",
   "execution_count": null,
   "metadata": {
    "collapsed": false
   },
   "outputs": [],
   "source": [
    "total_births = names.pivot_table('births', index='year',columns='name', aggfunc=sum)\n"
   ]
  },
  {
   "cell_type": "code",
   "execution_count": null,
   "metadata": {
    "collapsed": false
   },
   "outputs": [],
   "source": [
    "subset = total_bookings[['Monday', 'Tuesday', 'Wednesday', 'Thursday', 'Friday', 'Saturday', 'Sunday']]"
   ]
  },
  {
   "cell_type": "code",
   "execution_count": null,
   "metadata": {
    "collapsed": true
   },
   "outputs": [],
   "source": [
    "total_bookings.d"
   ]
  },
  {
   "cell_type": "code",
   "execution_count": null,
   "metadata": {
    "collapsed": false
   },
   "outputs": [],
   "source": [
    "subset.plot(subplots=True, figsize=(12,10), grid=False, title='Number of booking')"
   ]
  },
  {
   "cell_type": "code",
   "execution_count": null,
   "metadata": {
    "collapsed": false
   },
   "outputs": [],
   "source": [
    "%reset"
   ]
  },
  {
   "cell_type": "code",
   "execution_count": null,
   "metadata": {
    "collapsed": false
   },
   "outputs": [],
   "source": [
    "df5.head()"
   ]
  },
  {
   "cell_type": "code",
   "execution_count": null,
   "metadata": {
    "collapsed": true
   },
   "outputs": [],
   "source": []
  }
 ],
 "metadata": {
  "kernelspec": {
   "display_name": "Python 3",
   "language": "python",
   "name": "python3"
  },
  "language_info": {
   "codemirror_mode": {
    "name": "ipython",
    "version": 3
   },
   "file_extension": ".py",
   "mimetype": "text/x-python",
   "name": "python",
   "nbconvert_exporter": "python",
   "pygments_lexer": "ipython3",
   "version": "3.5.3"
  }
 },
 "nbformat": 4,
 "nbformat_minor": 2
}
