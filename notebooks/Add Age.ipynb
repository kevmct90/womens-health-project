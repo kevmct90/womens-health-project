{
 "cells": [
  {
   "cell_type": "code",
   "execution_count": 20,
   "metadata": {
    "collapsed": true
   },
   "outputs": [],
   "source": [
    "import pandas as pd\n",
    "import pandas_profiling\n",
    "import numpy as np\n",
    "\n",
    "path = '/Users/Kevin/Desktop/DataKind/womens-health-project/data/current/DWWC Bookings CURRENT.csv'"
   ]
  },
  {
   "cell_type": "code",
   "execution_count": 21,
   "metadata": {
    "collapsed": false
   },
   "outputs": [
    {
     "name": "stdout",
     "output_type": "stream",
     "text": [
      "/Users/Kevin/Desktop/DataKind/womens-health-project/data/current/DWWC Bookings CURRENT.csv: text/plain; charset=us-ascii\n"
     ]
    }
   ],
   "source": [
    "%%bash\n",
    "file -I \"/Users/Kevin/Desktop/DataKind/womens-health-project/data/current/DWWC Bookings CURRENT.csv\""
   ]
  },
  {
   "cell_type": "code",
   "execution_count": 22,
   "metadata": {
    "collapsed": false
   },
   "outputs": [
    {
     "data": {
      "text/html": [
       "<div>\n",
       "<table border=\"1\" class=\"dataframe\">\n",
       "  <thead>\n",
       "    <tr style=\"text-align: right;\">\n",
       "      <th></th>\n",
       "      <th>Unnamed: 0</th>\n",
       "      <th>ID</th>\n",
       "      <th>date_submitted</th>\n",
       "      <th>date_of_birth</th>\n",
       "      <th>preferred_contact</th>\n",
       "      <th>preferred_contact_e-mail</th>\n",
       "      <th>preferred_contact_phone</th>\n",
       "      <th>preferred_contact_text</th>\n",
       "      <th>return_patient</th>\n",
       "      <th>choose_clinic</th>\n",
       "      <th>service_required</th>\n",
       "      <th>smear_test_calc_flag</th>\n",
       "      <th>preferred_appt_date</th>\n",
       "      <th>preferred_time_of_day</th>\n",
       "      <th>preferred_time_morning</th>\n",
       "      <th>preferred_time_afternoon</th>\n",
       "      <th>preferred_time_evening</th>\n",
       "    </tr>\n",
       "  </thead>\n",
       "  <tbody>\n",
       "    <tr>\n",
       "      <th>0</th>\n",
       "      <td>0</td>\n",
       "      <td>4420</td>\n",
       "      <td>2017-02-03</td>\n",
       "      <td>1995-01-04 00:00:00</td>\n",
       "      <td>phone</td>\n",
       "      <td>0</td>\n",
       "      <td>1</td>\n",
       "      <td>0</td>\n",
       "      <td>No</td>\n",
       "      <td>Coolock</td>\n",
       "      <td>Mirena / Jaydess Consultation</td>\n",
       "      <td>NaN</td>\n",
       "      <td>2017-02-09</td>\n",
       "      <td>Evening</td>\n",
       "      <td>0</td>\n",
       "      <td>0</td>\n",
       "      <td>1</td>\n",
       "    </tr>\n",
       "    <tr>\n",
       "      <th>1</th>\n",
       "      <td>1</td>\n",
       "      <td>4419</td>\n",
       "      <td>2017-02-03</td>\n",
       "      <td>1992-03-26 00:00:00</td>\n",
       "      <td>e-mail</td>\n",
       "      <td>1</td>\n",
       "      <td>0</td>\n",
       "      <td>0</td>\n",
       "      <td>No</td>\n",
       "      <td>Liffey Street</td>\n",
       "      <td>General Counselling</td>\n",
       "      <td>NaN</td>\n",
       "      <td>2017-02-11</td>\n",
       "      <td>Morning,Afternoon,Evening</td>\n",
       "      <td>1</td>\n",
       "      <td>1</td>\n",
       "      <td>1</td>\n",
       "    </tr>\n",
       "    <tr>\n",
       "      <th>2</th>\n",
       "      <td>2</td>\n",
       "      <td>4418</td>\n",
       "      <td>2017-02-03</td>\n",
       "      <td>1987-01-09 00:00:00</td>\n",
       "      <td>e-mail</td>\n",
       "      <td>1</td>\n",
       "      <td>0</td>\n",
       "      <td>0</td>\n",
       "      <td>No</td>\n",
       "      <td>Liffey Street</td>\n",
       "      <td>Pregnancy Testing</td>\n",
       "      <td>NaN</td>\n",
       "      <td>2017-02-07</td>\n",
       "      <td>Afternoon</td>\n",
       "      <td>0</td>\n",
       "      <td>1</td>\n",
       "      <td>0</td>\n",
       "    </tr>\n",
       "    <tr>\n",
       "      <th>3</th>\n",
       "      <td>3</td>\n",
       "      <td>4417</td>\n",
       "      <td>2017-02-03</td>\n",
       "      <td>NaN</td>\n",
       "      <td>phone</td>\n",
       "      <td>0</td>\n",
       "      <td>1</td>\n",
       "      <td>0</td>\n",
       "      <td>Yes</td>\n",
       "      <td>Pembroke Road</td>\n",
       "      <td>Cervical Smear Test</td>\n",
       "      <td>unchecked</td>\n",
       "      <td>2017-02-06</td>\n",
       "      <td>Afternoon</td>\n",
       "      <td>0</td>\n",
       "      <td>1</td>\n",
       "      <td>0</td>\n",
       "    </tr>\n",
       "    <tr>\n",
       "      <th>4</th>\n",
       "      <td>4</td>\n",
       "      <td>4416</td>\n",
       "      <td>2017-02-03</td>\n",
       "      <td>1994-12-01 00:00:00</td>\n",
       "      <td>phone,e-mail</td>\n",
       "      <td>1</td>\n",
       "      <td>1</td>\n",
       "      <td>0</td>\n",
       "      <td>No</td>\n",
       "      <td>Liffey Street</td>\n",
       "      <td>Contraception services</td>\n",
       "      <td>NaN</td>\n",
       "      <td>2017-02-03</td>\n",
       "      <td>Morning,Afternoon,Evening</td>\n",
       "      <td>1</td>\n",
       "      <td>1</td>\n",
       "      <td>1</td>\n",
       "    </tr>\n",
       "  </tbody>\n",
       "</table>\n",
       "</div>"
      ],
      "text/plain": [
       "   Unnamed: 0    ID date_submitted        date_of_birth preferred_contact  \\\n",
       "0           0  4420     2017-02-03  1995-01-04 00:00:00             phone   \n",
       "1           1  4419     2017-02-03  1992-03-26 00:00:00            e-mail   \n",
       "2           2  4418     2017-02-03  1987-01-09 00:00:00            e-mail   \n",
       "3           3  4417     2017-02-03                  NaN             phone   \n",
       "4           4  4416     2017-02-03  1994-12-01 00:00:00      phone,e-mail   \n",
       "\n",
       "   preferred_contact_e-mail  preferred_contact_phone  preferred_contact_text  \\\n",
       "0                         0                        1                       0   \n",
       "1                         1                        0                       0   \n",
       "2                         1                        0                       0   \n",
       "3                         0                        1                       0   \n",
       "4                         1                        1                       0   \n",
       "\n",
       "  return_patient  choose_clinic               service_required  \\\n",
       "0             No        Coolock  Mirena / Jaydess Consultation   \n",
       "1             No  Liffey Street            General Counselling   \n",
       "2             No  Liffey Street              Pregnancy Testing   \n",
       "3            Yes  Pembroke Road            Cervical Smear Test   \n",
       "4             No  Liffey Street         Contraception services   \n",
       "\n",
       "  smear_test_calc_flag preferred_appt_date      preferred_time_of_day  \\\n",
       "0                  NaN          2017-02-09                    Evening   \n",
       "1                  NaN          2017-02-11  Morning,Afternoon,Evening   \n",
       "2                  NaN          2017-02-07                  Afternoon   \n",
       "3            unchecked          2017-02-06                  Afternoon   \n",
       "4                  NaN          2017-02-03  Morning,Afternoon,Evening   \n",
       "\n",
       "   preferred_time_morning  preferred_time_afternoon  preferred_time_evening  \n",
       "0                       0                         0                       1  \n",
       "1                       1                         1                       1  \n",
       "2                       0                         1                       0  \n",
       "3                       0                         1                       0  \n",
       "4                       1                         1                       1  "
      ]
     },
     "execution_count": 22,
     "metadata": {},
     "output_type": "execute_result"
    }
   ],
   "source": [
    "df=pd.read_csv(path, encoding='ascii')\n",
    "df.head()"
   ]
  },
  {
   "cell_type": "code",
   "execution_count": 23,
   "metadata": {
    "collapsed": false
   },
   "outputs": [
    {
     "data": {
      "text/plain": [
       "Unnamed: 0                   int64\n",
       "ID                           int64\n",
       "date_submitted              object\n",
       "date_of_birth               object\n",
       "preferred_contact           object\n",
       "preferred_contact_e-mail     int64\n",
       "preferred_contact_phone      int64\n",
       "preferred_contact_text       int64\n",
       "return_patient              object\n",
       "choose_clinic               object\n",
       "service_required            object\n",
       "smear_test_calc_flag        object\n",
       "preferred_appt_date         object\n",
       "preferred_time_of_day       object\n",
       "preferred_time_morning       int64\n",
       "preferred_time_afternoon     int64\n",
       "preferred_time_evening       int64\n",
       "dtype: object"
      ]
     },
     "execution_count": 23,
     "metadata": {},
     "output_type": "execute_result"
    }
   ],
   "source": [
    "df.dtypes"
   ]
  },
  {
   "cell_type": "code",
   "execution_count": 88,
   "metadata": {
    "collapsed": true
   },
   "outputs": [],
   "source": [
    "# convert objects to pandas datetime data types\n",
    "df['date_submitted'] =  pd.to_datetime(df['date_submitted'], format='%Y-%m-%d')\n",
    "\n",
    "# convert objects to pandas datetime data types, and handle null values using coerce\n",
    "df['date_of_birth'] =  pd.to_datetime(df['date_of_birth'], format='%Y-%m-%d',errors='coerce')"
   ]
  },
  {
   "cell_type": "code",
   "execution_count": 26,
   "metadata": {
    "collapsed": false
   },
   "outputs": [
    {
     "data": {
      "text/plain": [
       "Unnamed: 0                           int64\n",
       "ID                                   int64\n",
       "date_submitted              datetime64[ns]\n",
       "date_of_birth               datetime64[ns]\n",
       "preferred_contact                   object\n",
       "preferred_contact_e-mail             int64\n",
       "preferred_contact_phone              int64\n",
       "preferred_contact_text               int64\n",
       "return_patient                      object\n",
       "choose_clinic                       object\n",
       "service_required                    object\n",
       "smear_test_calc_flag                object\n",
       "preferred_appt_date                 object\n",
       "preferred_time_of_day               object\n",
       "preferred_time_morning               int64\n",
       "preferred_time_afternoon             int64\n",
       "preferred_time_evening               int64\n",
       "dtype: object"
      ]
     },
     "execution_count": 26,
     "metadata": {},
     "output_type": "execute_result"
    }
   ],
   "source": [
    "df.dtypes"
   ]
  },
  {
   "cell_type": "code",
   "execution_count": 82,
   "metadata": {
    "collapsed": false
   },
   "outputs": [],
   "source": [
    "df['age'] = ((df['date_submitted'] - df['date_of_birth']).astype('timedelta64[D]')/365.25)\n"
   ]
  },
  {
   "cell_type": "code",
   "execution_count": 83,
   "metadata": {
    "collapsed": true
   },
   "outputs": [],
   "source": [
    "# because of nulls the pandas int format causes an issue, there may be a better work around but this seemed to work\n",
    "# fine for dispaly purposes although valeus are still stored as floats \n",
    "pd.options.display.float_format = '{:,.0f}'.format"
   ]
  },
  {
   "cell_type": "code",
   "execution_count": 84,
   "metadata": {
    "collapsed": false
   },
   "outputs": [
    {
     "data": {
      "text/plain": [
       "Unnamed: 0                           int64\n",
       "ID                                   int64\n",
       "date_submitted              datetime64[ns]\n",
       "date_of_birth               datetime64[ns]\n",
       "preferred_contact                   object\n",
       "preferred_contact_e-mail             int64\n",
       "preferred_contact_phone              int64\n",
       "preferred_contact_text               int64\n",
       "return_patient                      object\n",
       "choose_clinic                       object\n",
       "service_required                    object\n",
       "smear_test_calc_flag                object\n",
       "preferred_appt_date                 object\n",
       "preferred_time_of_day               object\n",
       "preferred_time_morning               int64\n",
       "preferred_time_afternoon             int64\n",
       "preferred_time_evening               int64\n",
       "age                                float64\n",
       "dtype: object"
      ]
     },
     "execution_count": 84,
     "metadata": {},
     "output_type": "execute_result"
    }
   ],
   "source": [
    "df.dtypes"
   ]
  },
  {
   "cell_type": "code",
   "execution_count": 85,
   "metadata": {
    "collapsed": false
   },
   "outputs": [
    {
     "data": {
      "text/html": [
       "<div>\n",
       "<table border=\"1\" class=\"dataframe\">\n",
       "  <thead>\n",
       "    <tr style=\"text-align: right;\">\n",
       "      <th></th>\n",
       "      <th>Unnamed: 0</th>\n",
       "      <th>ID</th>\n",
       "      <th>date_submitted</th>\n",
       "      <th>date_of_birth</th>\n",
       "      <th>preferred_contact</th>\n",
       "      <th>preferred_contact_e-mail</th>\n",
       "      <th>preferred_contact_phone</th>\n",
       "      <th>preferred_contact_text</th>\n",
       "      <th>return_patient</th>\n",
       "      <th>choose_clinic</th>\n",
       "      <th>service_required</th>\n",
       "      <th>smear_test_calc_flag</th>\n",
       "      <th>preferred_appt_date</th>\n",
       "      <th>preferred_time_of_day</th>\n",
       "      <th>preferred_time_morning</th>\n",
       "      <th>preferred_time_afternoon</th>\n",
       "      <th>preferred_time_evening</th>\n",
       "      <th>age</th>\n",
       "    </tr>\n",
       "  </thead>\n",
       "  <tbody>\n",
       "    <tr>\n",
       "      <th>0</th>\n",
       "      <td>0</td>\n",
       "      <td>4420</td>\n",
       "      <td>2017-02-03</td>\n",
       "      <td>1995-01-04</td>\n",
       "      <td>phone</td>\n",
       "      <td>0</td>\n",
       "      <td>1</td>\n",
       "      <td>0</td>\n",
       "      <td>No</td>\n",
       "      <td>Coolock</td>\n",
       "      <td>Mirena / Jaydess Consultation</td>\n",
       "      <td>NaN</td>\n",
       "      <td>2017-02-09</td>\n",
       "      <td>Evening</td>\n",
       "      <td>0</td>\n",
       "      <td>0</td>\n",
       "      <td>1</td>\n",
       "      <td>22</td>\n",
       "    </tr>\n",
       "    <tr>\n",
       "      <th>1</th>\n",
       "      <td>1</td>\n",
       "      <td>4419</td>\n",
       "      <td>2017-02-03</td>\n",
       "      <td>1992-03-26</td>\n",
       "      <td>e-mail</td>\n",
       "      <td>1</td>\n",
       "      <td>0</td>\n",
       "      <td>0</td>\n",
       "      <td>No</td>\n",
       "      <td>Liffey Street</td>\n",
       "      <td>General Counselling</td>\n",
       "      <td>NaN</td>\n",
       "      <td>2017-02-11</td>\n",
       "      <td>Morning,Afternoon,Evening</td>\n",
       "      <td>1</td>\n",
       "      <td>1</td>\n",
       "      <td>1</td>\n",
       "      <td>25</td>\n",
       "    </tr>\n",
       "    <tr>\n",
       "      <th>2</th>\n",
       "      <td>2</td>\n",
       "      <td>4418</td>\n",
       "      <td>2017-02-03</td>\n",
       "      <td>1987-01-09</td>\n",
       "      <td>e-mail</td>\n",
       "      <td>1</td>\n",
       "      <td>0</td>\n",
       "      <td>0</td>\n",
       "      <td>No</td>\n",
       "      <td>Liffey Street</td>\n",
       "      <td>Pregnancy Testing</td>\n",
       "      <td>NaN</td>\n",
       "      <td>2017-02-07</td>\n",
       "      <td>Afternoon</td>\n",
       "      <td>0</td>\n",
       "      <td>1</td>\n",
       "      <td>0</td>\n",
       "      <td>30</td>\n",
       "    </tr>\n",
       "    <tr>\n",
       "      <th>3</th>\n",
       "      <td>3</td>\n",
       "      <td>4417</td>\n",
       "      <td>2017-02-03</td>\n",
       "      <td>NaT</td>\n",
       "      <td>phone</td>\n",
       "      <td>0</td>\n",
       "      <td>1</td>\n",
       "      <td>0</td>\n",
       "      <td>Yes</td>\n",
       "      <td>Pembroke Road</td>\n",
       "      <td>Cervical Smear Test</td>\n",
       "      <td>unchecked</td>\n",
       "      <td>2017-02-06</td>\n",
       "      <td>Afternoon</td>\n",
       "      <td>0</td>\n",
       "      <td>1</td>\n",
       "      <td>0</td>\n",
       "      <td>nan</td>\n",
       "    </tr>\n",
       "    <tr>\n",
       "      <th>4</th>\n",
       "      <td>4</td>\n",
       "      <td>4416</td>\n",
       "      <td>2017-02-03</td>\n",
       "      <td>1994-12-01</td>\n",
       "      <td>phone,e-mail</td>\n",
       "      <td>1</td>\n",
       "      <td>1</td>\n",
       "      <td>0</td>\n",
       "      <td>No</td>\n",
       "      <td>Liffey Street</td>\n",
       "      <td>Contraception services</td>\n",
       "      <td>NaN</td>\n",
       "      <td>2017-02-03</td>\n",
       "      <td>Morning,Afternoon,Evening</td>\n",
       "      <td>1</td>\n",
       "      <td>1</td>\n",
       "      <td>1</td>\n",
       "      <td>22</td>\n",
       "    </tr>\n",
       "  </tbody>\n",
       "</table>\n",
       "</div>"
      ],
      "text/plain": [
       "   Unnamed: 0    ID date_submitted date_of_birth preferred_contact  \\\n",
       "0           0  4420     2017-02-03    1995-01-04             phone   \n",
       "1           1  4419     2017-02-03    1992-03-26            e-mail   \n",
       "2           2  4418     2017-02-03    1987-01-09            e-mail   \n",
       "3           3  4417     2017-02-03           NaT             phone   \n",
       "4           4  4416     2017-02-03    1994-12-01      phone,e-mail   \n",
       "\n",
       "   preferred_contact_e-mail  preferred_contact_phone  preferred_contact_text  \\\n",
       "0                         0                        1                       0   \n",
       "1                         1                        0                       0   \n",
       "2                         1                        0                       0   \n",
       "3                         0                        1                       0   \n",
       "4                         1                        1                       0   \n",
       "\n",
       "  return_patient  choose_clinic               service_required  \\\n",
       "0             No        Coolock  Mirena / Jaydess Consultation   \n",
       "1             No  Liffey Street            General Counselling   \n",
       "2             No  Liffey Street              Pregnancy Testing   \n",
       "3            Yes  Pembroke Road            Cervical Smear Test   \n",
       "4             No  Liffey Street         Contraception services   \n",
       "\n",
       "  smear_test_calc_flag preferred_appt_date      preferred_time_of_day  \\\n",
       "0                  NaN          2017-02-09                    Evening   \n",
       "1                  NaN          2017-02-11  Morning,Afternoon,Evening   \n",
       "2                  NaN          2017-02-07                  Afternoon   \n",
       "3            unchecked          2017-02-06                  Afternoon   \n",
       "4                  NaN          2017-02-03  Morning,Afternoon,Evening   \n",
       "\n",
       "   preferred_time_morning  preferred_time_afternoon  preferred_time_evening  \\\n",
       "0                       0                         0                       1   \n",
       "1                       1                         1                       1   \n",
       "2                       0                         1                       0   \n",
       "3                       0                         1                       0   \n",
       "4                       1                         1                       1   \n",
       "\n",
       "   age  \n",
       "0   22  \n",
       "1   25  \n",
       "2   30  \n",
       "3  nan  \n",
       "4   22  "
      ]
     },
     "execution_count": 85,
     "metadata": {},
     "output_type": "execute_result"
    }
   ],
   "source": [
    "df.head()"
   ]
  },
  {
   "cell_type": "code",
   "execution_count": 87,
   "metadata": {
    "collapsed": false
   },
   "outputs": [],
   "source": [
    "# write file \n",
    "df.to_csv('/Users/Kevin/Desktop/DataKind/womens-health-project/data/current/DWWC Bookings-2017-03-07-Add-Age.csv', sep=',')"
   ]
  },
  {
   "cell_type": "raw",
   "metadata": {},
   "source": []
  },
  {
   "cell_type": "code",
   "execution_count": null,
   "metadata": {
    "collapsed": false
   },
   "outputs": [],
   "source": []
  },
  {
   "cell_type": "code",
   "execution_count": null,
   "metadata": {
    "collapsed": true
   },
   "outputs": [],
   "source": []
  }
 ],
 "metadata": {
  "kernelspec": {
   "display_name": "Python 3",
   "language": "python",
   "name": "python3"
  },
  "language_info": {
   "codemirror_mode": {
    "name": "ipython",
    "version": 3
   },
   "file_extension": ".py",
   "mimetype": "text/x-python",
   "name": "python",
   "nbconvert_exporter": "python",
   "pygments_lexer": "ipython3",
   "version": "3.5.3"
  }
 },
 "nbformat": 4,
 "nbformat_minor": 2
}
