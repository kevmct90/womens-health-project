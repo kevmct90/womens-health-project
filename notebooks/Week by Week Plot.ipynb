{
 "cells": [
  {
   "cell_type": "code",
   "execution_count": 33,
   "metadata": {
    "collapsed": false
   },
   "outputs": [],
   "source": [
    "import pandas as pd\n",
    "import numpy as np\n",
    "import matplotlib.pyplot as plt\n",
    "import seaborn as sns\n",
    "import datetime\n",
    "\n",
    "# Draw inline\n",
    "%matplotlib inline\n",
    "\n",
    "path = '/Users/Kevin/Desktop/DataKind/womens-health-project/data/current/DWWC Bookings-2017-03-07-Add-Age.csv'"
   ]
  },
  {
   "cell_type": "code",
   "execution_count": 34,
   "metadata": {
    "collapsed": false
   },
   "outputs": [
    {
     "name": "stdout",
     "output_type": "stream",
     "text": [
      "/Users/Kevin/Desktop/DataKind/womens-health-project/data/current/DWWC Bookings-2017-03-07-Add-Age.csv: text/plain; charset=us-ascii\n"
     ]
    }
   ],
   "source": [
    "%%bash\n",
    "file -I \"/Users/Kevin/Desktop/DataKind/womens-health-project/data/current/DWWC Bookings-2017-03-07-Add-Age.csv\"\n"
   ]
  },
  {
   "cell_type": "code",
   "execution_count": 35,
   "metadata": {
    "collapsed": true
   },
   "outputs": [],
   "source": [
    "df=pd.read_csv(path, encoding='ascii')"
   ]
  },
  {
   "cell_type": "code",
   "execution_count": 36,
   "metadata": {
    "collapsed": false
   },
   "outputs": [
    {
     "data": {
      "text/html": [
       "<div>\n",
       "<table border=\"1\" class=\"dataframe\">\n",
       "  <thead>\n",
       "    <tr style=\"text-align: right;\">\n",
       "      <th></th>\n",
       "      <th>ID</th>\n",
       "      <th>date_submitted</th>\n",
       "      <th>date_of_birth</th>\n",
       "      <th>preferred_contact</th>\n",
       "      <th>preferred_contact_e-mail</th>\n",
       "      <th>preferred_contact_phone</th>\n",
       "      <th>preferred_contact_text</th>\n",
       "      <th>return_patient</th>\n",
       "      <th>choose_clinic</th>\n",
       "      <th>service_required</th>\n",
       "      <th>smear_test_calc_flag</th>\n",
       "      <th>preferred_appt_date</th>\n",
       "      <th>preferred_time_of_day</th>\n",
       "      <th>preferred_time_morning</th>\n",
       "      <th>preferred_time_afternoon</th>\n",
       "      <th>preferred_time_evening</th>\n",
       "      <th>age</th>\n",
       "    </tr>\n",
       "  </thead>\n",
       "  <tbody>\n",
       "    <tr>\n",
       "      <th>0</th>\n",
       "      <td>4420</td>\n",
       "      <td>03/02/2017</td>\n",
       "      <td>04/01/1995</td>\n",
       "      <td>phone</td>\n",
       "      <td>0</td>\n",
       "      <td>1</td>\n",
       "      <td>0</td>\n",
       "      <td>No</td>\n",
       "      <td>Coolock</td>\n",
       "      <td>Mirena / Jaydess Consultation</td>\n",
       "      <td>NaN</td>\n",
       "      <td>09/02/2017</td>\n",
       "      <td>Evening</td>\n",
       "      <td>0</td>\n",
       "      <td>0</td>\n",
       "      <td>1</td>\n",
       "      <td>22.083504</td>\n",
       "    </tr>\n",
       "    <tr>\n",
       "      <th>1</th>\n",
       "      <td>4419</td>\n",
       "      <td>03/02/2017</td>\n",
       "      <td>26/03/1992</td>\n",
       "      <td>e-mail</td>\n",
       "      <td>1</td>\n",
       "      <td>0</td>\n",
       "      <td>0</td>\n",
       "      <td>No</td>\n",
       "      <td>Liffey Street</td>\n",
       "      <td>General Counselling</td>\n",
       "      <td>NaN</td>\n",
       "      <td>11/02/2017</td>\n",
       "      <td>Morning,Afternoon,Evening</td>\n",
       "      <td>1</td>\n",
       "      <td>1</td>\n",
       "      <td>1</td>\n",
       "      <td>24.859685</td>\n",
       "    </tr>\n",
       "    <tr>\n",
       "      <th>2</th>\n",
       "      <td>4418</td>\n",
       "      <td>03/02/2017</td>\n",
       "      <td>09/01/1987</td>\n",
       "      <td>e-mail</td>\n",
       "      <td>1</td>\n",
       "      <td>0</td>\n",
       "      <td>0</td>\n",
       "      <td>No</td>\n",
       "      <td>Liffey Street</td>\n",
       "      <td>Pregnancy Testing</td>\n",
       "      <td>NaN</td>\n",
       "      <td>07/02/2017</td>\n",
       "      <td>Afternoon</td>\n",
       "      <td>0</td>\n",
       "      <td>1</td>\n",
       "      <td>0</td>\n",
       "      <td>30.069815</td>\n",
       "    </tr>\n",
       "    <tr>\n",
       "      <th>3</th>\n",
       "      <td>4417</td>\n",
       "      <td>03/02/2017</td>\n",
       "      <td>NaN</td>\n",
       "      <td>phone</td>\n",
       "      <td>0</td>\n",
       "      <td>1</td>\n",
       "      <td>0</td>\n",
       "      <td>Yes</td>\n",
       "      <td>Pembroke Road</td>\n",
       "      <td>Cervical Smear Test</td>\n",
       "      <td>unchecked</td>\n",
       "      <td>06/02/2017</td>\n",
       "      <td>Afternoon</td>\n",
       "      <td>0</td>\n",
       "      <td>1</td>\n",
       "      <td>0</td>\n",
       "      <td>NaN</td>\n",
       "    </tr>\n",
       "    <tr>\n",
       "      <th>4</th>\n",
       "      <td>4416</td>\n",
       "      <td>03/02/2017</td>\n",
       "      <td>01/12/1994</td>\n",
       "      <td>phone,e-mail</td>\n",
       "      <td>1</td>\n",
       "      <td>1</td>\n",
       "      <td>0</td>\n",
       "      <td>No</td>\n",
       "      <td>Liffey Street</td>\n",
       "      <td>Contraception services</td>\n",
       "      <td>NaN</td>\n",
       "      <td>03/02/2017</td>\n",
       "      <td>Morning,Afternoon,Evening</td>\n",
       "      <td>1</td>\n",
       "      <td>1</td>\n",
       "      <td>1</td>\n",
       "      <td>22.176591</td>\n",
       "    </tr>\n",
       "  </tbody>\n",
       "</table>\n",
       "</div>"
      ],
      "text/plain": [
       "     ID date_submitted date_of_birth preferred_contact  \\\n",
       "0  4420     03/02/2017    04/01/1995             phone   \n",
       "1  4419     03/02/2017    26/03/1992            e-mail   \n",
       "2  4418     03/02/2017    09/01/1987            e-mail   \n",
       "3  4417     03/02/2017           NaN             phone   \n",
       "4  4416     03/02/2017    01/12/1994      phone,e-mail   \n",
       "\n",
       "   preferred_contact_e-mail  preferred_contact_phone  preferred_contact_text  \\\n",
       "0                         0                        1                       0   \n",
       "1                         1                        0                       0   \n",
       "2                         1                        0                       0   \n",
       "3                         0                        1                       0   \n",
       "4                         1                        1                       0   \n",
       "\n",
       "  return_patient  choose_clinic               service_required  \\\n",
       "0             No        Coolock  Mirena / Jaydess Consultation   \n",
       "1             No  Liffey Street            General Counselling   \n",
       "2             No  Liffey Street              Pregnancy Testing   \n",
       "3            Yes  Pembroke Road            Cervical Smear Test   \n",
       "4             No  Liffey Street         Contraception services   \n",
       "\n",
       "  smear_test_calc_flag preferred_appt_date      preferred_time_of_day  \\\n",
       "0                  NaN          09/02/2017                    Evening   \n",
       "1                  NaN          11/02/2017  Morning,Afternoon,Evening   \n",
       "2                  NaN          07/02/2017                  Afternoon   \n",
       "3            unchecked          06/02/2017                  Afternoon   \n",
       "4                  NaN          03/02/2017  Morning,Afternoon,Evening   \n",
       "\n",
       "   preferred_time_morning  preferred_time_afternoon  preferred_time_evening  \\\n",
       "0                       0                         0                       1   \n",
       "1                       1                         1                       1   \n",
       "2                       0                         1                       0   \n",
       "3                       0                         1                       0   \n",
       "4                       1                         1                       1   \n",
       "\n",
       "         age  \n",
       "0  22.083504  \n",
       "1  24.859685  \n",
       "2  30.069815  \n",
       "3        NaN  \n",
       "4  22.176591  "
      ]
     },
     "execution_count": 36,
     "metadata": {},
     "output_type": "execute_result"
    }
   ],
   "source": [
    "df.head()"
   ]
  },
  {
   "cell_type": "code",
   "execution_count": 37,
   "metadata": {
    "collapsed": false
   },
   "outputs": [
    {
     "data": {
      "image/png": "[encoded data removed]",
      "text/plain": [
       "<matplotlib.figure.Figure at 0x1108f0e10>"
      ]
     },
     "metadata": {},
     "output_type": "display_data"
    }
   ],
   "source": [
    "df.service_required.value_counts(dropna=False).plot(kind='bar', color='#FD5C64', rot=0)\n",
    "plt.xlabel('service_required')\n",
    "sns.despine()"
   ]
  },
  {
   "cell_type": "code",
   "execution_count": 38,
   "metadata": {
    "collapsed": false
   },
   "outputs": [
    {
     "name": "stderr",
     "output_type": "stream",
     "text": [
      "/Users/Kevin/anaconda/lib/python3.5/site-packages/ipykernel/__main__.py:2: SettingWithCopyWarning: \n",
      "A value is trying to be set on a copy of a slice from a DataFrame.\n",
      "Try using .loc[row_indexer,col_indexer] = value instead\n",
      "\n",
      "See the caveats in the documentation: http://pandas.pydata.org/pandas-docs/stable/indexing.html#indexing-view-versus-copy\n",
      "  from ipykernel import kernelapp as app\n"
     ]
    }
   ],
   "source": [
    "df2 = df[df['preferred_time_morning'] == 1]\n",
    "df2['Time of Day'] = 'Morning'\n"
   ]
  },
  {
   "cell_type": "code",
   "execution_count": 39,
   "metadata": {
    "collapsed": false
   },
   "outputs": [
    {
     "name": "stderr",
     "output_type": "stream",
     "text": [
      "/Users/Kevin/anaconda/lib/python3.5/site-packages/ipykernel/__main__.py:2: SettingWithCopyWarning: \n",
      "A value is trying to be set on a copy of a slice from a DataFrame.\n",
      "Try using .loc[row_indexer,col_indexer] = value instead\n",
      "\n",
      "See the caveats in the documentation: http://pandas.pydata.org/pandas-docs/stable/indexing.html#indexing-view-versus-copy\n",
      "  from ipykernel import kernelapp as app\n"
     ]
    }
   ],
   "source": [
    "df3 = df[df['preferred_time_afternoon'] == 1]\n",
    "df3['Time of Day'] = 'Afternoon'"
   ]
  },
  {
   "cell_type": "code",
   "execution_count": 40,
   "metadata": {
    "collapsed": false
   },
   "outputs": [
    {
     "name": "stderr",
     "output_type": "stream",
     "text": [
      "/Users/Kevin/anaconda/lib/python3.5/site-packages/ipykernel/__main__.py:2: SettingWithCopyWarning: \n",
      "A value is trying to be set on a copy of a slice from a DataFrame.\n",
      "Try using .loc[row_indexer,col_indexer] = value instead\n",
      "\n",
      "See the caveats in the documentation: http://pandas.pydata.org/pandas-docs/stable/indexing.html#indexing-view-versus-copy\n",
      "  from ipykernel import kernelapp as app\n"
     ]
    }
   ],
   "source": [
    "df4 = df[df['preferred_time_evening'] == 1]\n",
    "df4['Time of Day'] = 'Evening'"
   ]
  },
  {
   "cell_type": "code",
   "execution_count": 41,
   "metadata": {
    "collapsed": false
   },
   "outputs": [],
   "source": [
    "df5 = df2.append(df3).append(df4)"
   ]
  },
  {
   "cell_type": "code",
   "execution_count": 42,
   "metadata": {
    "collapsed": false
   },
   "outputs": [
    {
     "data": {
      "text/html": [
       "<div>\n",
       "<table border=\"1\" class=\"dataframe\">\n",
       "  <thead>\n",
       "    <tr style=\"text-align: right;\">\n",
       "      <th></th>\n",
       "      <th>ID</th>\n",
       "      <th>date_submitted</th>\n",
       "      <th>date_of_birth</th>\n",
       "      <th>preferred_contact</th>\n",
       "      <th>preferred_contact_e-mail</th>\n",
       "      <th>preferred_contact_phone</th>\n",
       "      <th>preferred_contact_text</th>\n",
       "      <th>return_patient</th>\n",
       "      <th>choose_clinic</th>\n",
       "      <th>service_required</th>\n",
       "      <th>smear_test_calc_flag</th>\n",
       "      <th>preferred_appt_date</th>\n",
       "      <th>preferred_time_of_day</th>\n",
       "      <th>preferred_time_morning</th>\n",
       "      <th>preferred_time_afternoon</th>\n",
       "      <th>preferred_time_evening</th>\n",
       "      <th>age</th>\n",
       "      <th>Time of Day</th>\n",
       "    </tr>\n",
       "  </thead>\n",
       "  <tbody>\n",
       "    <tr>\n",
       "      <th>1</th>\n",
       "      <td>4419</td>\n",
       "      <td>03/02/2017</td>\n",
       "      <td>26/03/1992</td>\n",
       "      <td>e-mail</td>\n",
       "      <td>1</td>\n",
       "      <td>0</td>\n",
       "      <td>0</td>\n",
       "      <td>No</td>\n",
       "      <td>Liffey Street</td>\n",
       "      <td>General Counselling</td>\n",
       "      <td>NaN</td>\n",
       "      <td>11/02/2017</td>\n",
       "      <td>Morning,Afternoon,Evening</td>\n",
       "      <td>1</td>\n",
       "      <td>1</td>\n",
       "      <td>1</td>\n",
       "      <td>24.859685</td>\n",
       "      <td>Morning</td>\n",
       "    </tr>\n",
       "    <tr>\n",
       "      <th>4</th>\n",
       "      <td>4416</td>\n",
       "      <td>03/02/2017</td>\n",
       "      <td>01/12/1994</td>\n",
       "      <td>phone,e-mail</td>\n",
       "      <td>1</td>\n",
       "      <td>1</td>\n",
       "      <td>0</td>\n",
       "      <td>No</td>\n",
       "      <td>Liffey Street</td>\n",
       "      <td>Contraception services</td>\n",
       "      <td>NaN</td>\n",
       "      <td>03/02/2017</td>\n",
       "      <td>Morning,Afternoon,Evening</td>\n",
       "      <td>1</td>\n",
       "      <td>1</td>\n",
       "      <td>1</td>\n",
       "      <td>22.176591</td>\n",
       "      <td>Morning</td>\n",
       "    </tr>\n",
       "    <tr>\n",
       "      <th>6</th>\n",
       "      <td>4414</td>\n",
       "      <td>02/02/2017</td>\n",
       "      <td>05/05/1987</td>\n",
       "      <td>e-mail</td>\n",
       "      <td>1</td>\n",
       "      <td>0</td>\n",
       "      <td>0</td>\n",
       "      <td>No</td>\n",
       "      <td>Liffey Street</td>\n",
       "      <td>Infection Testing</td>\n",
       "      <td>NaN</td>\n",
       "      <td>04/02/2017</td>\n",
       "      <td>Morning</td>\n",
       "      <td>1</td>\n",
       "      <td>0</td>\n",
       "      <td>0</td>\n",
       "      <td>29.749487</td>\n",
       "      <td>Morning</td>\n",
       "    </tr>\n",
       "    <tr>\n",
       "      <th>9</th>\n",
       "      <td>4411</td>\n",
       "      <td>02/02/2017</td>\n",
       "      <td>05/05/1987</td>\n",
       "      <td>e-mail</td>\n",
       "      <td>1</td>\n",
       "      <td>0</td>\n",
       "      <td>0</td>\n",
       "      <td>No</td>\n",
       "      <td>Liffey Street</td>\n",
       "      <td>Infection Testing</td>\n",
       "      <td>NaN</td>\n",
       "      <td>04/02/2017</td>\n",
       "      <td>Morning</td>\n",
       "      <td>1</td>\n",
       "      <td>0</td>\n",
       "      <td>0</td>\n",
       "      <td>29.749487</td>\n",
       "      <td>Morning</td>\n",
       "    </tr>\n",
       "    <tr>\n",
       "      <th>10</th>\n",
       "      <td>4410</td>\n",
       "      <td>02/02/2017</td>\n",
       "      <td>23/04/1991</td>\n",
       "      <td>e-mail</td>\n",
       "      <td>1</td>\n",
       "      <td>0</td>\n",
       "      <td>0</td>\n",
       "      <td>No</td>\n",
       "      <td>Pembroke Road</td>\n",
       "      <td>Cervical Smear Test</td>\n",
       "      <td>checked</td>\n",
       "      <td>11/02/2017</td>\n",
       "      <td>Morning,Afternoon</td>\n",
       "      <td>1</td>\n",
       "      <td>1</td>\n",
       "      <td>0</td>\n",
       "      <td>25.782341</td>\n",
       "      <td>Morning</td>\n",
       "    </tr>\n",
       "  </tbody>\n",
       "</table>\n",
       "</div>"
      ],
      "text/plain": [
       "      ID date_submitted date_of_birth preferred_contact  \\\n",
       "1   4419     03/02/2017    26/03/1992            e-mail   \n",
       "4   4416     03/02/2017    01/12/1994      phone,e-mail   \n",
       "6   4414     02/02/2017    05/05/1987            e-mail   \n",
       "9   4411     02/02/2017    05/05/1987            e-mail   \n",
       "10  4410     02/02/2017    23/04/1991            e-mail   \n",
       "\n",
       "    preferred_contact_e-mail  preferred_contact_phone  preferred_contact_text  \\\n",
       "1                          1                        0                       0   \n",
       "4                          1                        1                       0   \n",
       "6                          1                        0                       0   \n",
       "9                          1                        0                       0   \n",
       "10                         1                        0                       0   \n",
       "\n",
       "   return_patient  choose_clinic        service_required smear_test_calc_flag  \\\n",
       "1              No  Liffey Street     General Counselling                  NaN   \n",
       "4              No  Liffey Street  Contraception services                  NaN   \n",
       "6              No  Liffey Street       Infection Testing                  NaN   \n",
       "9              No  Liffey Street       Infection Testing                  NaN   \n",
       "10             No  Pembroke Road     Cervical Smear Test              checked   \n",
       "\n",
       "   preferred_appt_date      preferred_time_of_day  preferred_time_morning  \\\n",
       "1           11/02/2017  Morning,Afternoon,Evening                       1   \n",
       "4           03/02/2017  Morning,Afternoon,Evening                       1   \n",
       "6           04/02/2017                    Morning                       1   \n",
       "9           04/02/2017                    Morning                       1   \n",
       "10          11/02/2017          Morning,Afternoon                       1   \n",
       "\n",
       "    preferred_time_afternoon  preferred_time_evening        age Time of Day  \n",
       "1                          1                       1  24.859685     Morning  \n",
       "4                          1                       1  22.176591     Morning  \n",
       "6                          0                       0  29.749487     Morning  \n",
       "9                          0                       0  29.749487     Morning  \n",
       "10                         1                       0  25.782341     Morning  "
      ]
     },
     "execution_count": 42,
     "metadata": {},
     "output_type": "execute_result"
    }
   ],
   "source": [
    "df5.head()"
   ]
  },
  {
   "cell_type": "code",
   "execution_count": 43,
   "metadata": {
    "collapsed": false
   },
   "outputs": [
    {
     "data": {
      "text/plain": [
       "ID                            int64\n",
       "date_submitted               object\n",
       "date_of_birth                object\n",
       "preferred_contact            object\n",
       "preferred_contact_e-mail      int64\n",
       "preferred_contact_phone       int64\n",
       "preferred_contact_text        int64\n",
       "return_patient               object\n",
       "choose_clinic                object\n",
       "service_required             object\n",
       "smear_test_calc_flag         object\n",
       "preferred_appt_date          object\n",
       "preferred_time_of_day        object\n",
       "preferred_time_morning        int64\n",
       "preferred_time_afternoon      int64\n",
       "preferred_time_evening        int64\n",
       "age                         float64\n",
       "Time of Day                  object\n",
       "dtype: object"
      ]
     },
     "execution_count": 43,
     "metadata": {},
     "output_type": "execute_result"
    }
   ],
   "source": [
    "df5.dtypes\n",
    "\n"
   ]
  },
  {
   "cell_type": "code",
   "execution_count": 44,
   "metadata": {
    "collapsed": false
   },
   "outputs": [],
   "source": [
    "# convert objects to pandas datetime data types\n",
    "df5['date_submitted'] =  pd.to_datetime(df5['date_submitted'], format='%d/%m/%Y')\n",
    "\n",
    "# convert objects to pandas datetime data types, and handle null values using coerce\n",
    "df5['date_of_birth'] =  pd.to_datetime(df5['date_of_birth'], format='%d/%m/%Y',errors='coerce')\n",
    "\n",
    "# convert objects to pandas datetime data types, and handle null values using coerce\n",
    "df5['preferred_appt_date'] =  pd.to_datetime(df5['preferred_appt_date'], format='%d/%m/%Y',errors='coerce')"
   ]
  },
  {
   "cell_type": "code",
   "execution_count": 45,
   "metadata": {
    "collapsed": false
   },
   "outputs": [
    {
     "data": {
      "text/plain": [
       "ID                                   int64\n",
       "date_submitted              datetime64[ns]\n",
       "date_of_birth               datetime64[ns]\n",
       "preferred_contact                   object\n",
       "preferred_contact_e-mail             int64\n",
       "preferred_contact_phone              int64\n",
       "preferred_contact_text               int64\n",
       "return_patient                      object\n",
       "choose_clinic                       object\n",
       "service_required                    object\n",
       "smear_test_calc_flag                object\n",
       "preferred_appt_date         datetime64[ns]\n",
       "preferred_time_of_day               object\n",
       "preferred_time_morning               int64\n",
       "preferred_time_afternoon             int64\n",
       "preferred_time_evening               int64\n",
       "age                                float64\n",
       "Time of Day                         object\n",
       "dtype: object"
      ]
     },
     "execution_count": 45,
     "metadata": {},
     "output_type": "execute_result"
    }
   ],
   "source": [
    "df5.dtypes\n"
   ]
  },
  {
   "cell_type": "code",
   "execution_count": 46,
   "metadata": {
    "collapsed": true
   },
   "outputs": [],
   "source": [
    "df5['preferred_appt_day_week'] = df5['preferred_appt_date'].dt.weekday_name"
   ]
  },
  {
   "cell_type": "code",
   "execution_count": 47,
   "metadata": {
    "collapsed": false
   },
   "outputs": [
    {
     "data": {
      "text/plain": [
       "1    2017-02-11\n",
       "4    2017-02-03\n",
       "6    2017-02-04\n",
       "9    2017-02-04\n",
       "10   2017-02-11\n",
       "13   2017-02-03\n",
       "14   2017-02-09\n",
       "16          NaT\n",
       "18   2017-02-18\n",
       "19   2017-02-08\n",
       "Name: preferred_appt_date, dtype: datetime64[ns]"
      ]
     },
     "execution_count": 47,
     "metadata": {},
     "output_type": "execute_result"
    }
   ],
   "source": [
    "# df5(len(df5['preferred_appt_date']) >= 5)\n",
    "df5['preferred_appt_date'].head(10)\n"
   ]
  },
  {
   "cell_type": "code",
   "execution_count": 48,
   "metadata": {
    "collapsed": false
   },
   "outputs": [
    {
     "data": {
      "text/html": [
       "<div>\n",
       "<table border=\"1\" class=\"dataframe\">\n",
       "  <thead>\n",
       "    <tr style=\"text-align: right;\">\n",
       "      <th></th>\n",
       "      <th>ID</th>\n",
       "      <th>date_submitted</th>\n",
       "      <th>date_of_birth</th>\n",
       "      <th>preferred_contact</th>\n",
       "      <th>preferred_contact_e-mail</th>\n",
       "      <th>preferred_contact_phone</th>\n",
       "      <th>preferred_contact_text</th>\n",
       "      <th>return_patient</th>\n",
       "      <th>choose_clinic</th>\n",
       "      <th>service_required</th>\n",
       "      <th>smear_test_calc_flag</th>\n",
       "      <th>preferred_appt_date</th>\n",
       "      <th>preferred_time_of_day</th>\n",
       "      <th>preferred_time_morning</th>\n",
       "      <th>preferred_time_afternoon</th>\n",
       "      <th>preferred_time_evening</th>\n",
       "      <th>age</th>\n",
       "      <th>Time of Day</th>\n",
       "      <th>preferred_appt_day_week</th>\n",
       "    </tr>\n",
       "  </thead>\n",
       "  <tbody>\n",
       "    <tr>\n",
       "      <th>1</th>\n",
       "      <td>4419</td>\n",
       "      <td>2017-02-03</td>\n",
       "      <td>1992-03-26</td>\n",
       "      <td>e-mail</td>\n",
       "      <td>1</td>\n",
       "      <td>0</td>\n",
       "      <td>0</td>\n",
       "      <td>No</td>\n",
       "      <td>Liffey Street</td>\n",
       "      <td>General Counselling</td>\n",
       "      <td>NaN</td>\n",
       "      <td>2017-02-11</td>\n",
       "      <td>Morning,Afternoon,Evening</td>\n",
       "      <td>1</td>\n",
       "      <td>1</td>\n",
       "      <td>1</td>\n",
       "      <td>24.859685</td>\n",
       "      <td>Morning</td>\n",
       "      <td>Saturday</td>\n",
       "    </tr>\n",
       "    <tr>\n",
       "      <th>4</th>\n",
       "      <td>4416</td>\n",
       "      <td>2017-02-03</td>\n",
       "      <td>1994-12-01</td>\n",
       "      <td>phone,e-mail</td>\n",
       "      <td>1</td>\n",
       "      <td>1</td>\n",
       "      <td>0</td>\n",
       "      <td>No</td>\n",
       "      <td>Liffey Street</td>\n",
       "      <td>Contraception services</td>\n",
       "      <td>NaN</td>\n",
       "      <td>2017-02-03</td>\n",
       "      <td>Morning,Afternoon,Evening</td>\n",
       "      <td>1</td>\n",
       "      <td>1</td>\n",
       "      <td>1</td>\n",
       "      <td>22.176591</td>\n",
       "      <td>Morning</td>\n",
       "      <td>Friday</td>\n",
       "    </tr>\n",
       "    <tr>\n",
       "      <th>6</th>\n",
       "      <td>4414</td>\n",
       "      <td>2017-02-02</td>\n",
       "      <td>1987-05-05</td>\n",
       "      <td>e-mail</td>\n",
       "      <td>1</td>\n",
       "      <td>0</td>\n",
       "      <td>0</td>\n",
       "      <td>No</td>\n",
       "      <td>Liffey Street</td>\n",
       "      <td>Infection Testing</td>\n",
       "      <td>NaN</td>\n",
       "      <td>2017-02-04</td>\n",
       "      <td>Morning</td>\n",
       "      <td>1</td>\n",
       "      <td>0</td>\n",
       "      <td>0</td>\n",
       "      <td>29.749487</td>\n",
       "      <td>Morning</td>\n",
       "      <td>Saturday</td>\n",
       "    </tr>\n",
       "    <tr>\n",
       "      <th>9</th>\n",
       "      <td>4411</td>\n",
       "      <td>2017-02-02</td>\n",
       "      <td>1987-05-05</td>\n",
       "      <td>e-mail</td>\n",
       "      <td>1</td>\n",
       "      <td>0</td>\n",
       "      <td>0</td>\n",
       "      <td>No</td>\n",
       "      <td>Liffey Street</td>\n",
       "      <td>Infection Testing</td>\n",
       "      <td>NaN</td>\n",
       "      <td>2017-02-04</td>\n",
       "      <td>Morning</td>\n",
       "      <td>1</td>\n",
       "      <td>0</td>\n",
       "      <td>0</td>\n",
       "      <td>29.749487</td>\n",
       "      <td>Morning</td>\n",
       "      <td>Saturday</td>\n",
       "    </tr>\n",
       "    <tr>\n",
       "      <th>10</th>\n",
       "      <td>4410</td>\n",
       "      <td>2017-02-02</td>\n",
       "      <td>1991-04-23</td>\n",
       "      <td>e-mail</td>\n",
       "      <td>1</td>\n",
       "      <td>0</td>\n",
       "      <td>0</td>\n",
       "      <td>No</td>\n",
       "      <td>Pembroke Road</td>\n",
       "      <td>Cervical Smear Test</td>\n",
       "      <td>checked</td>\n",
       "      <td>2017-02-11</td>\n",
       "      <td>Morning,Afternoon</td>\n",
       "      <td>1</td>\n",
       "      <td>1</td>\n",
       "      <td>0</td>\n",
       "      <td>25.782341</td>\n",
       "      <td>Morning</td>\n",
       "      <td>Saturday</td>\n",
       "    </tr>\n",
       "  </tbody>\n",
       "</table>\n",
       "</div>"
      ],
      "text/plain": [
       "      ID date_submitted date_of_birth preferred_contact  \\\n",
       "1   4419     2017-02-03    1992-03-26            e-mail   \n",
       "4   4416     2017-02-03    1994-12-01      phone,e-mail   \n",
       "6   4414     2017-02-02    1987-05-05            e-mail   \n",
       "9   4411     2017-02-02    1987-05-05            e-mail   \n",
       "10  4410     2017-02-02    1991-04-23            e-mail   \n",
       "\n",
       "    preferred_contact_e-mail  preferred_contact_phone  preferred_contact_text  \\\n",
       "1                          1                        0                       0   \n",
       "4                          1                        1                       0   \n",
       "6                          1                        0                       0   \n",
       "9                          1                        0                       0   \n",
       "10                         1                        0                       0   \n",
       "\n",
       "   return_patient  choose_clinic        service_required smear_test_calc_flag  \\\n",
       "1              No  Liffey Street     General Counselling                  NaN   \n",
       "4              No  Liffey Street  Contraception services                  NaN   \n",
       "6              No  Liffey Street       Infection Testing                  NaN   \n",
       "9              No  Liffey Street       Infection Testing                  NaN   \n",
       "10             No  Pembroke Road     Cervical Smear Test              checked   \n",
       "\n",
       "   preferred_appt_date      preferred_time_of_day  preferred_time_morning  \\\n",
       "1           2017-02-11  Morning,Afternoon,Evening                       1   \n",
       "4           2017-02-03  Morning,Afternoon,Evening                       1   \n",
       "6           2017-02-04                    Morning                       1   \n",
       "9           2017-02-04                    Morning                       1   \n",
       "10          2017-02-11          Morning,Afternoon                       1   \n",
       "\n",
       "    preferred_time_afternoon  preferred_time_evening        age Time of Day  \\\n",
       "1                          1                       1  24.859685     Morning   \n",
       "4                          1                       1  22.176591     Morning   \n",
       "6                          0                       0  29.749487     Morning   \n",
       "9                          0                       0  29.749487     Morning   \n",
       "10                         1                       0  25.782341     Morning   \n",
       "\n",
       "   preferred_appt_day_week  \n",
       "1                 Saturday  \n",
       "4                   Friday  \n",
       "6                 Saturday  \n",
       "9                 Saturday  \n",
       "10                Saturday  "
      ]
     },
     "execution_count": 48,
     "metadata": {},
     "output_type": "execute_result"
    }
   ],
   "source": [
    "df5 = df5[pd.notnull(df5['preferred_appt_date'])]\n",
    "df5.head()"
   ]
  },
  {
   "cell_type": "code",
   "execution_count": 49,
   "metadata": {
    "collapsed": false
   },
   "outputs": [
    {
     "data": {
      "text/html": [
       "<div>\n",
       "<table border=\"1\" class=\"dataframe\">\n",
       "  <thead>\n",
       "    <tr style=\"text-align: right;\">\n",
       "      <th></th>\n",
       "      <th>preferred_appt_day_week</th>\n",
       "      <th>Time of Day</th>\n",
       "      <th>count</th>\n",
       "    </tr>\n",
       "  </thead>\n",
       "  <tbody>\n",
       "    <tr>\n",
       "      <th>0</th>\n",
       "      <td>Friday</td>\n",
       "      <td>Afternoon</td>\n",
       "      <td>286</td>\n",
       "    </tr>\n",
       "    <tr>\n",
       "      <th>1</th>\n",
       "      <td>Friday</td>\n",
       "      <td>Evening</td>\n",
       "      <td>220</td>\n",
       "    </tr>\n",
       "    <tr>\n",
       "      <th>2</th>\n",
       "      <td>Friday</td>\n",
       "      <td>Morning</td>\n",
       "      <td>258</td>\n",
       "    </tr>\n",
       "    <tr>\n",
       "      <th>3</th>\n",
       "      <td>Monday</td>\n",
       "      <td>Afternoon</td>\n",
       "      <td>275</td>\n",
       "    </tr>\n",
       "    <tr>\n",
       "      <th>4</th>\n",
       "      <td>Monday</td>\n",
       "      <td>Evening</td>\n",
       "      <td>323</td>\n",
       "    </tr>\n",
       "    <tr>\n",
       "      <th>5</th>\n",
       "      <td>Monday</td>\n",
       "      <td>Morning</td>\n",
       "      <td>292</td>\n",
       "    </tr>\n",
       "    <tr>\n",
       "      <th>6</th>\n",
       "      <td>Saturday</td>\n",
       "      <td>Afternoon</td>\n",
       "      <td>380</td>\n",
       "    </tr>\n",
       "    <tr>\n",
       "      <th>7</th>\n",
       "      <td>Saturday</td>\n",
       "      <td>Evening</td>\n",
       "      <td>134</td>\n",
       "    </tr>\n",
       "    <tr>\n",
       "      <th>8</th>\n",
       "      <td>Saturday</td>\n",
       "      <td>Morning</td>\n",
       "      <td>451</td>\n",
       "    </tr>\n",
       "    <tr>\n",
       "      <th>9</th>\n",
       "      <td>Sunday</td>\n",
       "      <td>Afternoon</td>\n",
       "      <td>23</td>\n",
       "    </tr>\n",
       "    <tr>\n",
       "      <th>10</th>\n",
       "      <td>Sunday</td>\n",
       "      <td>Evening</td>\n",
       "      <td>22</td>\n",
       "    </tr>\n",
       "    <tr>\n",
       "      <th>11</th>\n",
       "      <td>Sunday</td>\n",
       "      <td>Morning</td>\n",
       "      <td>16</td>\n",
       "    </tr>\n",
       "    <tr>\n",
       "      <th>12</th>\n",
       "      <td>Thursday</td>\n",
       "      <td>Afternoon</td>\n",
       "      <td>198</td>\n",
       "    </tr>\n",
       "    <tr>\n",
       "      <th>13</th>\n",
       "      <td>Thursday</td>\n",
       "      <td>Evening</td>\n",
       "      <td>271</td>\n",
       "    </tr>\n",
       "    <tr>\n",
       "      <th>14</th>\n",
       "      <td>Thursday</td>\n",
       "      <td>Morning</td>\n",
       "      <td>228</td>\n",
       "    </tr>\n",
       "    <tr>\n",
       "      <th>15</th>\n",
       "      <td>Tuesday</td>\n",
       "      <td>Afternoon</td>\n",
       "      <td>255</td>\n",
       "    </tr>\n",
       "    <tr>\n",
       "      <th>16</th>\n",
       "      <td>Tuesday</td>\n",
       "      <td>Evening</td>\n",
       "      <td>299</td>\n",
       "    </tr>\n",
       "    <tr>\n",
       "      <th>17</th>\n",
       "      <td>Tuesday</td>\n",
       "      <td>Morning</td>\n",
       "      <td>244</td>\n",
       "    </tr>\n",
       "    <tr>\n",
       "      <th>18</th>\n",
       "      <td>Wednesday</td>\n",
       "      <td>Afternoon</td>\n",
       "      <td>242</td>\n",
       "    </tr>\n",
       "    <tr>\n",
       "      <th>19</th>\n",
       "      <td>Wednesday</td>\n",
       "      <td>Evening</td>\n",
       "      <td>297</td>\n",
       "    </tr>\n",
       "    <tr>\n",
       "      <th>20</th>\n",
       "      <td>Wednesday</td>\n",
       "      <td>Morning</td>\n",
       "      <td>218</td>\n",
       "    </tr>\n",
       "  </tbody>\n",
       "</table>\n",
       "</div>"
      ],
      "text/plain": [
       "   preferred_appt_day_week Time of Day  count\n",
       "0                   Friday   Afternoon    286\n",
       "1                   Friday     Evening    220\n",
       "2                   Friday     Morning    258\n",
       "3                   Monday   Afternoon    275\n",
       "4                   Monday     Evening    323\n",
       "5                   Monday     Morning    292\n",
       "6                 Saturday   Afternoon    380\n",
       "7                 Saturday     Evening    134\n",
       "8                 Saturday     Morning    451\n",
       "9                   Sunday   Afternoon     23\n",
       "10                  Sunday     Evening     22\n",
       "11                  Sunday     Morning     16\n",
       "12                Thursday   Afternoon    198\n",
       "13                Thursday     Evening    271\n",
       "14                Thursday     Morning    228\n",
       "15                 Tuesday   Afternoon    255\n",
       "16                 Tuesday     Evening    299\n",
       "17                 Tuesday     Morning    244\n",
       "18               Wednesday   Afternoon    242\n",
       "19               Wednesday     Evening    297\n",
       "20               Wednesday     Morning    218"
      ]
     },
     "execution_count": 49,
     "metadata": {},
     "output_type": "execute_result"
    }
   ],
   "source": [
    "df6 = pd.DataFrame({'count' : df5.groupby(['preferred_appt_day_week', 'Time of Day'] ).size()}).reset_index()\n",
    "\n",
    "df6.head(100)\n",
    "\n"
   ]
  },
  {
   "cell_type": "code",
   "execution_count": 50,
   "metadata": {
    "collapsed": false
   },
   "outputs": [
    {
     "data": {
      "text/html": [
       "<div>\n",
       "<table border=\"1\" class=\"dataframe\">\n",
       "  <thead>\n",
       "    <tr style=\"text-align: right;\">\n",
       "      <th></th>\n",
       "      <th>preferred_appt_day_week</th>\n",
       "      <th>Time of Day</th>\n",
       "      <th>count</th>\n",
       "      <th>Time_Rank</th>\n",
       "      <th>Day_Rank</th>\n",
       "    </tr>\n",
       "  </thead>\n",
       "  <tbody>\n",
       "    <tr>\n",
       "      <th>0</th>\n",
       "      <td>Friday</td>\n",
       "      <td>Afternoon</td>\n",
       "      <td>286</td>\n",
       "      <td>1</td>\n",
       "      <td>4</td>\n",
       "    </tr>\n",
       "    <tr>\n",
       "      <th>1</th>\n",
       "      <td>Friday</td>\n",
       "      <td>Evening</td>\n",
       "      <td>220</td>\n",
       "      <td>2</td>\n",
       "      <td>4</td>\n",
       "    </tr>\n",
       "    <tr>\n",
       "      <th>2</th>\n",
       "      <td>Friday</td>\n",
       "      <td>Morning</td>\n",
       "      <td>258</td>\n",
       "      <td>0</td>\n",
       "      <td>4</td>\n",
       "    </tr>\n",
       "    <tr>\n",
       "      <th>3</th>\n",
       "      <td>Monday</td>\n",
       "      <td>Afternoon</td>\n",
       "      <td>275</td>\n",
       "      <td>1</td>\n",
       "      <td>0</td>\n",
       "    </tr>\n",
       "    <tr>\n",
       "      <th>4</th>\n",
       "      <td>Monday</td>\n",
       "      <td>Evening</td>\n",
       "      <td>323</td>\n",
       "      <td>2</td>\n",
       "      <td>0</td>\n",
       "    </tr>\n",
       "  </tbody>\n",
       "</table>\n",
       "</div>"
      ],
      "text/plain": [
       "  preferred_appt_day_week Time of Day  count  Time_Rank  Day_Rank\n",
       "0                  Friday   Afternoon    286          1         4\n",
       "1                  Friday     Evening    220          2         4\n",
       "2                  Friday     Morning    258          0         4\n",
       "3                  Monday   Afternoon    275          1         0\n",
       "4                  Monday     Evening    323          2         0"
      ]
     },
     "execution_count": 50,
     "metadata": {},
     "output_type": "execute_result"
    }
   ],
   "source": [
    "df7 = df6\n",
    "\n",
    "sorter = ['Morning', 'Afternoon','Evening']\n",
    "sorterIndex = dict(zip(sorter,range(len(sorter))))\n",
    "\n",
    "sorter2 = ['Monday', 'Tuesday', 'Wednesday', 'Thursday', 'Friday', 'Saturday', 'Sunday']\n",
    "sorterIndex2 = dict(zip(sorter2,range(len(sorter2))))\n",
    "\n",
    "df7['Time_Rank'] = df6['Time of Day'].map(sorterIndex)\n",
    "df7['Day_Rank'] = df7['preferred_appt_day_week'].map(sorterIndex2)\n",
    "\n",
    "df7.head()"
   ]
  },
  {
   "cell_type": "code",
   "execution_count": 51,
   "metadata": {
    "collapsed": false
   },
   "outputs": [
    {
     "data": {
      "text/html": [
       "<div>\n",
       "<table border=\"1\" class=\"dataframe\">\n",
       "  <thead>\n",
       "    <tr style=\"text-align: right;\">\n",
       "      <th></th>\n",
       "      <th>preferred_appt_day_week</th>\n",
       "      <th>Time of Day</th>\n",
       "      <th>count</th>\n",
       "      <th>Time_Rank</th>\n",
       "      <th>Day_Rank</th>\n",
       "    </tr>\n",
       "  </thead>\n",
       "  <tbody>\n",
       "    <tr>\n",
       "      <th>0</th>\n",
       "      <td>Monday</td>\n",
       "      <td>Morning</td>\n",
       "      <td>292</td>\n",
       "      <td>0</td>\n",
       "      <td>0</td>\n",
       "    </tr>\n",
       "    <tr>\n",
       "      <th>1</th>\n",
       "      <td>Monday</td>\n",
       "      <td>Afternoon</td>\n",
       "      <td>275</td>\n",
       "      <td>1</td>\n",
       "      <td>0</td>\n",
       "    </tr>\n",
       "    <tr>\n",
       "      <th>2</th>\n",
       "      <td>Monday</td>\n",
       "      <td>Evening</td>\n",
       "      <td>323</td>\n",
       "      <td>2</td>\n",
       "      <td>0</td>\n",
       "    </tr>\n",
       "    <tr>\n",
       "      <th>3</th>\n",
       "      <td>Tuesday</td>\n",
       "      <td>Morning</td>\n",
       "      <td>244</td>\n",
       "      <td>0</td>\n",
       "      <td>1</td>\n",
       "    </tr>\n",
       "    <tr>\n",
       "      <th>4</th>\n",
       "      <td>Tuesday</td>\n",
       "      <td>Afternoon</td>\n",
       "      <td>255</td>\n",
       "      <td>1</td>\n",
       "      <td>1</td>\n",
       "    </tr>\n",
       "  </tbody>\n",
       "</table>\n",
       "</div>"
      ],
      "text/plain": [
       "  preferred_appt_day_week Time of Day  count  Time_Rank  Day_Rank\n",
       "0                  Monday     Morning    292          0         0\n",
       "1                  Monday   Afternoon    275          1         0\n",
       "2                  Monday     Evening    323          2         0\n",
       "3                 Tuesday     Morning    244          0         1\n",
       "4                 Tuesday   Afternoon    255          1         1"
      ]
     },
     "execution_count": 51,
     "metadata": {},
     "output_type": "execute_result"
    }
   ],
   "source": [
    "df8 = df7.sort_values(['Day_Rank', 'Time_Rank'], ascending = [True, True])\n",
    "df9 = df8.reset_index(drop=True)\n",
    "df9.head()"
   ]
  },
  {
   "cell_type": "code",
   "execution_count": null,
   "metadata": {
    "collapsed": false
   },
   "outputs": [],
   "source": [
    "total_bookings = df9.pivot_table('count', index='Time_Rank',columns='Day_Rank', aggfunc=sum)\n",
    "total_bookings.head()\n",
    "#df8.reindex(df_pivot['count'].sort_values)\n",
    "#df = df.reindex(df_pivot['Value'].sort_values(by=2012, ascending=False).index)\n",
    "#df9 = df8.reindex(df_pivot['Value'].sort_values(by=(['Day_Rank', 'Time_Rank'], ascending = [True, True]).index))"
   ]
  },
  {
   "cell_type": "code",
   "execution_count": 53,
   "metadata": {
    "collapsed": false
   },
   "outputs": [],
   "source": [
    "subset = total_bookings[['Monday', 'Tuesday', 'Wednesday', 'Thursday', 'Friday', 'Saturday', 'Sunday']]"
   ]
  },
  {
   "cell_type": "code",
   "execution_count": null,
   "metadata": {
    "collapsed": true
   },
   "outputs": [],
   "source": []
  },
  {
   "cell_type": "code",
   "execution_count": null,
   "metadata": {
    "collapsed": false
   },
   "outputs": [
    {
     "data": {
      "text/plain": [
       "array([<matplotlib.axes._subplots.AxesSubplot object at 0x114291908>,\n",
       "       <matplotlib.axes._subplots.AxesSubplot object at 0x106218668>,\n",
       "       <matplotlib.axes._subplots.AxesSubplot object at 0x110247940>,\n",
       "       <matplotlib.axes._subplots.AxesSubplot object at 0x11479f5c0>,\n",
       "       <matplotlib.axes._subplots.AxesSubplot object at 0x1146b8710>,\n",
       "       <matplotlib.axes._subplots.AxesSubplot object at 0x1148634e0>,\n",
       "       <matplotlib.axes._subplots.AxesSubplot object at 0x1148a84e0>], dtype=object)"
      ]
     },
     "execution_count": 54,
     "metadata": {},
     "output_type": "execute_result"
    },
    {
     "data": {
      "image/png": "[encoded data removed]",
      "text/plain": [
       "<matplotlib.figure.Figure at 0x105ef2668>"
      ]
     },
     "metadata": {},
     "output_type": "display_data"
    }
   ],
   "source": [
    "subset.plot(subplots=True, figsize=(12,10), grid=False, title='Number of booking')"
   ]
  },
  {
   "cell_type": "code",
   "execution_count": null,
   "metadata": {
    "collapsed": false
   },
   "outputs": [],
   "source": [
    "%reset"
   ]
  },
  {
   "cell_type": "code",
   "execution_count": null,
   "metadata": {
    "collapsed": false
   },
   "outputs": [],
   "source": [
    "df5.head()"
   ]
  },
  {
   "cell_type": "code",
   "execution_count": null,
   "metadata": {
    "collapsed": true
   },
   "outputs": [],
   "source": []
  }
 ],
 "metadata": {
  "kernelspec": {
   "display_name": "Python 3",
   "language": "python",
   "name": "python3"
  },
  "language_info": {
   "codemirror_mode": {
    "name": "ipython",
    "version": 3
   },
   "file_extension": ".py",
   "mimetype": "text/x-python",
   "name": "python",
   "nbconvert_exporter": "python",
   "pygments_lexer": "ipython3",
   "version": "3.5.3"
  }
 },
 "nbformat": 4,
 "nbformat_minor": 2
}
